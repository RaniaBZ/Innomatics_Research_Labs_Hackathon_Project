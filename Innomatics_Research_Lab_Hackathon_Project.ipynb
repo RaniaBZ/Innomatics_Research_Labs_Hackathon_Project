{
  "nbformat": 4,
  "nbformat_minor": 0,
  "metadata": {
    "colab": {
      "provenance": [],
      "gpuType": "T4",
      "authorship_tag": "ABX9TyNeUMu+QdBXSd4A6cXvZm+P",
      "include_colab_link": true
    },
    "kernelspec": {
      "name": "python3",
      "display_name": "Python 3"
    },
    "language_info": {
      "name": "python"
    },
    "accelerator": "GPU"
  },
  "cells": [
    {
      "cell_type": "markdown",
      "metadata": {
        "id": "view-in-github",
        "colab_type": "text"
      },
      "source": [
        "<a href=\"https://colab.research.google.com/github/RaniaBZ/Innomatics_Research_Labs_Hackathon_Project/blob/main/Innomatics_Research_Lab_Hackathon_Project.ipynb\" target=\"_parent\"><img src=\"https://colab.research.google.com/assets/colab-badge.svg\" alt=\"Open In Colab\"/></a>"
      ]
    },
    {
      "cell_type": "code",
      "execution_count": 48,
      "metadata": {
        "id": "W_anXClxM-YA"
      },
      "outputs": [],
      "source": [
        "import numpy as np\n",
        "import pandas as pd\n",
        "import matplotlib.pyplot as plt"
      ]
    },
    {
      "cell_type": "markdown",
      "source": [
        "1. Links dataset\n"
      ],
      "metadata": {
        "id": "KkcZph4jSi06"
      }
    },
    {
      "cell_type": "code",
      "source": [
        "df_links = pd.read_csv('/content/links.csv')"
      ],
      "metadata": {
        "id": "nrmBaDW1RNjB"
      },
      "execution_count": 49,
      "outputs": []
    },
    {
      "cell_type": "code",
      "source": [
        "df_links.head()"
      ],
      "metadata": {
        "colab": {
          "base_uri": "https://localhost:8080/",
          "height": 206
        },
        "id": "B0SjPJr5Rx-r",
        "outputId": "ccb67ebc-8795-4598-c2c6-75e655b9130e"
      },
      "execution_count": 50,
      "outputs": [
        {
          "output_type": "execute_result",
          "data": {
            "text/plain": [
              "   movieId  imdbId   tmdbId\n",
              "0        1  114709    862.0\n",
              "1        2  113497   8844.0\n",
              "2        3  113228  15602.0\n",
              "3        4  114885  31357.0\n",
              "4        5  113041  11862.0"
            ],
            "text/html": [
              "\n",
              "  <div id=\"df-7d675658-71f3-44ea-9a34-1511dc4bf9a8\" class=\"colab-df-container\">\n",
              "    <div>\n",
              "<style scoped>\n",
              "    .dataframe tbody tr th:only-of-type {\n",
              "        vertical-align: middle;\n",
              "    }\n",
              "\n",
              "    .dataframe tbody tr th {\n",
              "        vertical-align: top;\n",
              "    }\n",
              "\n",
              "    .dataframe thead th {\n",
              "        text-align: right;\n",
              "    }\n",
              "</style>\n",
              "<table border=\"1\" class=\"dataframe\">\n",
              "  <thead>\n",
              "    <tr style=\"text-align: right;\">\n",
              "      <th></th>\n",
              "      <th>movieId</th>\n",
              "      <th>imdbId</th>\n",
              "      <th>tmdbId</th>\n",
              "    </tr>\n",
              "  </thead>\n",
              "  <tbody>\n",
              "    <tr>\n",
              "      <th>0</th>\n",
              "      <td>1</td>\n",
              "      <td>114709</td>\n",
              "      <td>862.0</td>\n",
              "    </tr>\n",
              "    <tr>\n",
              "      <th>1</th>\n",
              "      <td>2</td>\n",
              "      <td>113497</td>\n",
              "      <td>8844.0</td>\n",
              "    </tr>\n",
              "    <tr>\n",
              "      <th>2</th>\n",
              "      <td>3</td>\n",
              "      <td>113228</td>\n",
              "      <td>15602.0</td>\n",
              "    </tr>\n",
              "    <tr>\n",
              "      <th>3</th>\n",
              "      <td>4</td>\n",
              "      <td>114885</td>\n",
              "      <td>31357.0</td>\n",
              "    </tr>\n",
              "    <tr>\n",
              "      <th>4</th>\n",
              "      <td>5</td>\n",
              "      <td>113041</td>\n",
              "      <td>11862.0</td>\n",
              "    </tr>\n",
              "  </tbody>\n",
              "</table>\n",
              "</div>\n",
              "    <div class=\"colab-df-buttons\">\n",
              "\n",
              "  <div class=\"colab-df-container\">\n",
              "    <button class=\"colab-df-convert\" onclick=\"convertToInteractive('df-7d675658-71f3-44ea-9a34-1511dc4bf9a8')\"\n",
              "            title=\"Convert this dataframe to an interactive table.\"\n",
              "            style=\"display:none;\">\n",
              "\n",
              "  <svg xmlns=\"http://www.w3.org/2000/svg\" height=\"24px\" viewBox=\"0 -960 960 960\">\n",
              "    <path d=\"M120-120v-720h720v720H120Zm60-500h600v-160H180v160Zm220 220h160v-160H400v160Zm0 220h160v-160H400v160ZM180-400h160v-160H180v160Zm440 0h160v-160H620v160ZM180-180h160v-160H180v160Zm440 0h160v-160H620v160Z\"/>\n",
              "  </svg>\n",
              "    </button>\n",
              "\n",
              "  <style>\n",
              "    .colab-df-container {\n",
              "      display:flex;\n",
              "      gap: 12px;\n",
              "    }\n",
              "\n",
              "    .colab-df-convert {\n",
              "      background-color: #E8F0FE;\n",
              "      border: none;\n",
              "      border-radius: 50%;\n",
              "      cursor: pointer;\n",
              "      display: none;\n",
              "      fill: #1967D2;\n",
              "      height: 32px;\n",
              "      padding: 0 0 0 0;\n",
              "      width: 32px;\n",
              "    }\n",
              "\n",
              "    .colab-df-convert:hover {\n",
              "      background-color: #E2EBFA;\n",
              "      box-shadow: 0px 1px 2px rgba(60, 64, 67, 0.3), 0px 1px 3px 1px rgba(60, 64, 67, 0.15);\n",
              "      fill: #174EA6;\n",
              "    }\n",
              "\n",
              "    .colab-df-buttons div {\n",
              "      margin-bottom: 4px;\n",
              "    }\n",
              "\n",
              "    [theme=dark] .colab-df-convert {\n",
              "      background-color: #3B4455;\n",
              "      fill: #D2E3FC;\n",
              "    }\n",
              "\n",
              "    [theme=dark] .colab-df-convert:hover {\n",
              "      background-color: #434B5C;\n",
              "      box-shadow: 0px 1px 3px 1px rgba(0, 0, 0, 0.15);\n",
              "      filter: drop-shadow(0px 1px 2px rgba(0, 0, 0, 0.3));\n",
              "      fill: #FFFFFF;\n",
              "    }\n",
              "  </style>\n",
              "\n",
              "    <script>\n",
              "      const buttonEl =\n",
              "        document.querySelector('#df-7d675658-71f3-44ea-9a34-1511dc4bf9a8 button.colab-df-convert');\n",
              "      buttonEl.style.display =\n",
              "        google.colab.kernel.accessAllowed ? 'block' : 'none';\n",
              "\n",
              "      async function convertToInteractive(key) {\n",
              "        const element = document.querySelector('#df-7d675658-71f3-44ea-9a34-1511dc4bf9a8');\n",
              "        const dataTable =\n",
              "          await google.colab.kernel.invokeFunction('convertToInteractive',\n",
              "                                                    [key], {});\n",
              "        if (!dataTable) return;\n",
              "\n",
              "        const docLinkHtml = 'Like what you see? Visit the ' +\n",
              "          '<a target=\"_blank\" href=https://colab.research.google.com/notebooks/data_table.ipynb>data table notebook</a>'\n",
              "          + ' to learn more about interactive tables.';\n",
              "        element.innerHTML = '';\n",
              "        dataTable['output_type'] = 'display_data';\n",
              "        await google.colab.output.renderOutput(dataTable, element);\n",
              "        const docLink = document.createElement('div');\n",
              "        docLink.innerHTML = docLinkHtml;\n",
              "        element.appendChild(docLink);\n",
              "      }\n",
              "    </script>\n",
              "  </div>\n",
              "\n",
              "\n",
              "<div id=\"df-46f2f18c-d8f1-4544-9080-18a12483d022\">\n",
              "  <button class=\"colab-df-quickchart\" onclick=\"quickchart('df-46f2f18c-d8f1-4544-9080-18a12483d022')\"\n",
              "            title=\"Suggest charts\"\n",
              "            style=\"display:none;\">\n",
              "\n",
              "<svg xmlns=\"http://www.w3.org/2000/svg\" height=\"24px\"viewBox=\"0 0 24 24\"\n",
              "     width=\"24px\">\n",
              "    <g>\n",
              "        <path d=\"M19 3H5c-1.1 0-2 .9-2 2v14c0 1.1.9 2 2 2h14c1.1 0 2-.9 2-2V5c0-1.1-.9-2-2-2zM9 17H7v-7h2v7zm4 0h-2V7h2v10zm4 0h-2v-4h2v4z\"/>\n",
              "    </g>\n",
              "</svg>\n",
              "  </button>\n",
              "\n",
              "<style>\n",
              "  .colab-df-quickchart {\n",
              "      --bg-color: #E8F0FE;\n",
              "      --fill-color: #1967D2;\n",
              "      --hover-bg-color: #E2EBFA;\n",
              "      --hover-fill-color: #174EA6;\n",
              "      --disabled-fill-color: #AAA;\n",
              "      --disabled-bg-color: #DDD;\n",
              "  }\n",
              "\n",
              "  [theme=dark] .colab-df-quickchart {\n",
              "      --bg-color: #3B4455;\n",
              "      --fill-color: #D2E3FC;\n",
              "      --hover-bg-color: #434B5C;\n",
              "      --hover-fill-color: #FFFFFF;\n",
              "      --disabled-bg-color: #3B4455;\n",
              "      --disabled-fill-color: #666;\n",
              "  }\n",
              "\n",
              "  .colab-df-quickchart {\n",
              "    background-color: var(--bg-color);\n",
              "    border: none;\n",
              "    border-radius: 50%;\n",
              "    cursor: pointer;\n",
              "    display: none;\n",
              "    fill: var(--fill-color);\n",
              "    height: 32px;\n",
              "    padding: 0;\n",
              "    width: 32px;\n",
              "  }\n",
              "\n",
              "  .colab-df-quickchart:hover {\n",
              "    background-color: var(--hover-bg-color);\n",
              "    box-shadow: 0 1px 2px rgba(60, 64, 67, 0.3), 0 1px 3px 1px rgba(60, 64, 67, 0.15);\n",
              "    fill: var(--button-hover-fill-color);\n",
              "  }\n",
              "\n",
              "  .colab-df-quickchart-complete:disabled,\n",
              "  .colab-df-quickchart-complete:disabled:hover {\n",
              "    background-color: var(--disabled-bg-color);\n",
              "    fill: var(--disabled-fill-color);\n",
              "    box-shadow: none;\n",
              "  }\n",
              "\n",
              "  .colab-df-spinner {\n",
              "    border: 2px solid var(--fill-color);\n",
              "    border-color: transparent;\n",
              "    border-bottom-color: var(--fill-color);\n",
              "    animation:\n",
              "      spin 1s steps(1) infinite;\n",
              "  }\n",
              "\n",
              "  @keyframes spin {\n",
              "    0% {\n",
              "      border-color: transparent;\n",
              "      border-bottom-color: var(--fill-color);\n",
              "      border-left-color: var(--fill-color);\n",
              "    }\n",
              "    20% {\n",
              "      border-color: transparent;\n",
              "      border-left-color: var(--fill-color);\n",
              "      border-top-color: var(--fill-color);\n",
              "    }\n",
              "    30% {\n",
              "      border-color: transparent;\n",
              "      border-left-color: var(--fill-color);\n",
              "      border-top-color: var(--fill-color);\n",
              "      border-right-color: var(--fill-color);\n",
              "    }\n",
              "    40% {\n",
              "      border-color: transparent;\n",
              "      border-right-color: var(--fill-color);\n",
              "      border-top-color: var(--fill-color);\n",
              "    }\n",
              "    60% {\n",
              "      border-color: transparent;\n",
              "      border-right-color: var(--fill-color);\n",
              "    }\n",
              "    80% {\n",
              "      border-color: transparent;\n",
              "      border-right-color: var(--fill-color);\n",
              "      border-bottom-color: var(--fill-color);\n",
              "    }\n",
              "    90% {\n",
              "      border-color: transparent;\n",
              "      border-bottom-color: var(--fill-color);\n",
              "    }\n",
              "  }\n",
              "</style>\n",
              "\n",
              "  <script>\n",
              "    async function quickchart(key) {\n",
              "      const quickchartButtonEl =\n",
              "        document.querySelector('#' + key + ' button');\n",
              "      quickchartButtonEl.disabled = true;  // To prevent multiple clicks.\n",
              "      quickchartButtonEl.classList.add('colab-df-spinner');\n",
              "      try {\n",
              "        const charts = await google.colab.kernel.invokeFunction(\n",
              "            'suggestCharts', [key], {});\n",
              "      } catch (error) {\n",
              "        console.error('Error during call to suggestCharts:', error);\n",
              "      }\n",
              "      quickchartButtonEl.classList.remove('colab-df-spinner');\n",
              "      quickchartButtonEl.classList.add('colab-df-quickchart-complete');\n",
              "    }\n",
              "    (() => {\n",
              "      let quickchartButtonEl =\n",
              "        document.querySelector('#df-46f2f18c-d8f1-4544-9080-18a12483d022 button');\n",
              "      quickchartButtonEl.style.display =\n",
              "        google.colab.kernel.accessAllowed ? 'block' : 'none';\n",
              "    })();\n",
              "  </script>\n",
              "</div>\n",
              "\n",
              "    </div>\n",
              "  </div>\n"
            ],
            "application/vnd.google.colaboratory.intrinsic+json": {
              "type": "dataframe",
              "variable_name": "df_links",
              "summary": "{\n  \"name\": \"df_links\",\n  \"rows\": 9742,\n  \"fields\": [\n    {\n      \"column\": \"movieId\",\n      \"properties\": {\n        \"dtype\": \"number\",\n        \"std\": 52160,\n        \"min\": 1,\n        \"max\": 193609,\n        \"num_unique_values\": 9742,\n        \"samples\": [\n          45635,\n          1373,\n          7325\n        ],\n        \"semantic_type\": \"\",\n        \"description\": \"\"\n      }\n    },\n    {\n      \"column\": \"imdbId\",\n      \"properties\": {\n        \"dtype\": \"number\",\n        \"std\": 1107227,\n        \"min\": 417,\n        \"max\": 8391976,\n        \"num_unique_values\": 9742,\n        \"samples\": [\n          404802,\n          98382,\n          335438\n        ],\n        \"semantic_type\": \"\",\n        \"description\": \"\"\n      }\n    },\n    {\n      \"column\": \"tmdbId\",\n      \"properties\": {\n        \"dtype\": \"number\",\n        \"std\": 93653.48148734067,\n        \"min\": 2.0,\n        \"max\": 525662.0,\n        \"num_unique_values\": 9733,\n        \"samples\": [\n          18168.0,\n          38357.0,\n          51620.0\n        ],\n        \"semantic_type\": \"\",\n        \"description\": \"\"\n      }\n    }\n  ]\n}"
            }
          },
          "metadata": {},
          "execution_count": 50
        }
      ]
    },
    {
      "cell_type": "code",
      "source": [
        "df_links.shape"
      ],
      "metadata": {
        "colab": {
          "base_uri": "https://localhost:8080/"
        },
        "id": "_FbJMo8LTl1r",
        "outputId": "8268a1bd-dbec-40d6-8ce6-fc9c64ec9b2d"
      },
      "execution_count": 51,
      "outputs": [
        {
          "output_type": "execute_result",
          "data": {
            "text/plain": [
              "(9742, 3)"
            ]
          },
          "metadata": {},
          "execution_count": 51
        }
      ]
    },
    {
      "cell_type": "markdown",
      "source": [
        "2. Movies dataset"
      ],
      "metadata": {
        "id": "xUthUYBDSrtp"
      }
    },
    {
      "cell_type": "code",
      "source": [
        "df_movies = pd.read_csv('/content/movies.csv')"
      ],
      "metadata": {
        "id": "zerVOPZeRZpR"
      },
      "execution_count": 52,
      "outputs": []
    },
    {
      "cell_type": "code",
      "source": [
        "df_movies.head()"
      ],
      "metadata": {
        "colab": {
          "base_uri": "https://localhost:8080/",
          "height": 206
        },
        "id": "1OAAKEEjSzi1",
        "outputId": "5ef60518-3e02-47b1-c826-36b69a1fa598"
      },
      "execution_count": 53,
      "outputs": [
        {
          "output_type": "execute_result",
          "data": {
            "text/plain": [
              "   movieId                               title  \\\n",
              "0        1                    Toy Story (1995)   \n",
              "1        2                      Jumanji (1995)   \n",
              "2        3             Grumpier Old Men (1995)   \n",
              "3        4            Waiting to Exhale (1995)   \n",
              "4        5  Father of the Bride Part II (1995)   \n",
              "\n",
              "                                        genres  \n",
              "0  Adventure|Animation|Children|Comedy|Fantasy  \n",
              "1                   Adventure|Children|Fantasy  \n",
              "2                               Comedy|Romance  \n",
              "3                         Comedy|Drama|Romance  \n",
              "4                                       Comedy  "
            ],
            "text/html": [
              "\n",
              "  <div id=\"df-25e826c8-a146-4130-8db6-8fc9c75add6d\" class=\"colab-df-container\">\n",
              "    <div>\n",
              "<style scoped>\n",
              "    .dataframe tbody tr th:only-of-type {\n",
              "        vertical-align: middle;\n",
              "    }\n",
              "\n",
              "    .dataframe tbody tr th {\n",
              "        vertical-align: top;\n",
              "    }\n",
              "\n",
              "    .dataframe thead th {\n",
              "        text-align: right;\n",
              "    }\n",
              "</style>\n",
              "<table border=\"1\" class=\"dataframe\">\n",
              "  <thead>\n",
              "    <tr style=\"text-align: right;\">\n",
              "      <th></th>\n",
              "      <th>movieId</th>\n",
              "      <th>title</th>\n",
              "      <th>genres</th>\n",
              "    </tr>\n",
              "  </thead>\n",
              "  <tbody>\n",
              "    <tr>\n",
              "      <th>0</th>\n",
              "      <td>1</td>\n",
              "      <td>Toy Story (1995)</td>\n",
              "      <td>Adventure|Animation|Children|Comedy|Fantasy</td>\n",
              "    </tr>\n",
              "    <tr>\n",
              "      <th>1</th>\n",
              "      <td>2</td>\n",
              "      <td>Jumanji (1995)</td>\n",
              "      <td>Adventure|Children|Fantasy</td>\n",
              "    </tr>\n",
              "    <tr>\n",
              "      <th>2</th>\n",
              "      <td>3</td>\n",
              "      <td>Grumpier Old Men (1995)</td>\n",
              "      <td>Comedy|Romance</td>\n",
              "    </tr>\n",
              "    <tr>\n",
              "      <th>3</th>\n",
              "      <td>4</td>\n",
              "      <td>Waiting to Exhale (1995)</td>\n",
              "      <td>Comedy|Drama|Romance</td>\n",
              "    </tr>\n",
              "    <tr>\n",
              "      <th>4</th>\n",
              "      <td>5</td>\n",
              "      <td>Father of the Bride Part II (1995)</td>\n",
              "      <td>Comedy</td>\n",
              "    </tr>\n",
              "  </tbody>\n",
              "</table>\n",
              "</div>\n",
              "    <div class=\"colab-df-buttons\">\n",
              "\n",
              "  <div class=\"colab-df-container\">\n",
              "    <button class=\"colab-df-convert\" onclick=\"convertToInteractive('df-25e826c8-a146-4130-8db6-8fc9c75add6d')\"\n",
              "            title=\"Convert this dataframe to an interactive table.\"\n",
              "            style=\"display:none;\">\n",
              "\n",
              "  <svg xmlns=\"http://www.w3.org/2000/svg\" height=\"24px\" viewBox=\"0 -960 960 960\">\n",
              "    <path d=\"M120-120v-720h720v720H120Zm60-500h600v-160H180v160Zm220 220h160v-160H400v160Zm0 220h160v-160H400v160ZM180-400h160v-160H180v160Zm440 0h160v-160H620v160ZM180-180h160v-160H180v160Zm440 0h160v-160H620v160Z\"/>\n",
              "  </svg>\n",
              "    </button>\n",
              "\n",
              "  <style>\n",
              "    .colab-df-container {\n",
              "      display:flex;\n",
              "      gap: 12px;\n",
              "    }\n",
              "\n",
              "    .colab-df-convert {\n",
              "      background-color: #E8F0FE;\n",
              "      border: none;\n",
              "      border-radius: 50%;\n",
              "      cursor: pointer;\n",
              "      display: none;\n",
              "      fill: #1967D2;\n",
              "      height: 32px;\n",
              "      padding: 0 0 0 0;\n",
              "      width: 32px;\n",
              "    }\n",
              "\n",
              "    .colab-df-convert:hover {\n",
              "      background-color: #E2EBFA;\n",
              "      box-shadow: 0px 1px 2px rgba(60, 64, 67, 0.3), 0px 1px 3px 1px rgba(60, 64, 67, 0.15);\n",
              "      fill: #174EA6;\n",
              "    }\n",
              "\n",
              "    .colab-df-buttons div {\n",
              "      margin-bottom: 4px;\n",
              "    }\n",
              "\n",
              "    [theme=dark] .colab-df-convert {\n",
              "      background-color: #3B4455;\n",
              "      fill: #D2E3FC;\n",
              "    }\n",
              "\n",
              "    [theme=dark] .colab-df-convert:hover {\n",
              "      background-color: #434B5C;\n",
              "      box-shadow: 0px 1px 3px 1px rgba(0, 0, 0, 0.15);\n",
              "      filter: drop-shadow(0px 1px 2px rgba(0, 0, 0, 0.3));\n",
              "      fill: #FFFFFF;\n",
              "    }\n",
              "  </style>\n",
              "\n",
              "    <script>\n",
              "      const buttonEl =\n",
              "        document.querySelector('#df-25e826c8-a146-4130-8db6-8fc9c75add6d button.colab-df-convert');\n",
              "      buttonEl.style.display =\n",
              "        google.colab.kernel.accessAllowed ? 'block' : 'none';\n",
              "\n",
              "      async function convertToInteractive(key) {\n",
              "        const element = document.querySelector('#df-25e826c8-a146-4130-8db6-8fc9c75add6d');\n",
              "        const dataTable =\n",
              "          await google.colab.kernel.invokeFunction('convertToInteractive',\n",
              "                                                    [key], {});\n",
              "        if (!dataTable) return;\n",
              "\n",
              "        const docLinkHtml = 'Like what you see? Visit the ' +\n",
              "          '<a target=\"_blank\" href=https://colab.research.google.com/notebooks/data_table.ipynb>data table notebook</a>'\n",
              "          + ' to learn more about interactive tables.';\n",
              "        element.innerHTML = '';\n",
              "        dataTable['output_type'] = 'display_data';\n",
              "        await google.colab.output.renderOutput(dataTable, element);\n",
              "        const docLink = document.createElement('div');\n",
              "        docLink.innerHTML = docLinkHtml;\n",
              "        element.appendChild(docLink);\n",
              "      }\n",
              "    </script>\n",
              "  </div>\n",
              "\n",
              "\n",
              "<div id=\"df-6b5a17bd-6bbc-467e-b660-1be7a8528665\">\n",
              "  <button class=\"colab-df-quickchart\" onclick=\"quickchart('df-6b5a17bd-6bbc-467e-b660-1be7a8528665')\"\n",
              "            title=\"Suggest charts\"\n",
              "            style=\"display:none;\">\n",
              "\n",
              "<svg xmlns=\"http://www.w3.org/2000/svg\" height=\"24px\"viewBox=\"0 0 24 24\"\n",
              "     width=\"24px\">\n",
              "    <g>\n",
              "        <path d=\"M19 3H5c-1.1 0-2 .9-2 2v14c0 1.1.9 2 2 2h14c1.1 0 2-.9 2-2V5c0-1.1-.9-2-2-2zM9 17H7v-7h2v7zm4 0h-2V7h2v10zm4 0h-2v-4h2v4z\"/>\n",
              "    </g>\n",
              "</svg>\n",
              "  </button>\n",
              "\n",
              "<style>\n",
              "  .colab-df-quickchart {\n",
              "      --bg-color: #E8F0FE;\n",
              "      --fill-color: #1967D2;\n",
              "      --hover-bg-color: #E2EBFA;\n",
              "      --hover-fill-color: #174EA6;\n",
              "      --disabled-fill-color: #AAA;\n",
              "      --disabled-bg-color: #DDD;\n",
              "  }\n",
              "\n",
              "  [theme=dark] .colab-df-quickchart {\n",
              "      --bg-color: #3B4455;\n",
              "      --fill-color: #D2E3FC;\n",
              "      --hover-bg-color: #434B5C;\n",
              "      --hover-fill-color: #FFFFFF;\n",
              "      --disabled-bg-color: #3B4455;\n",
              "      --disabled-fill-color: #666;\n",
              "  }\n",
              "\n",
              "  .colab-df-quickchart {\n",
              "    background-color: var(--bg-color);\n",
              "    border: none;\n",
              "    border-radius: 50%;\n",
              "    cursor: pointer;\n",
              "    display: none;\n",
              "    fill: var(--fill-color);\n",
              "    height: 32px;\n",
              "    padding: 0;\n",
              "    width: 32px;\n",
              "  }\n",
              "\n",
              "  .colab-df-quickchart:hover {\n",
              "    background-color: var(--hover-bg-color);\n",
              "    box-shadow: 0 1px 2px rgba(60, 64, 67, 0.3), 0 1px 3px 1px rgba(60, 64, 67, 0.15);\n",
              "    fill: var(--button-hover-fill-color);\n",
              "  }\n",
              "\n",
              "  .colab-df-quickchart-complete:disabled,\n",
              "  .colab-df-quickchart-complete:disabled:hover {\n",
              "    background-color: var(--disabled-bg-color);\n",
              "    fill: var(--disabled-fill-color);\n",
              "    box-shadow: none;\n",
              "  }\n",
              "\n",
              "  .colab-df-spinner {\n",
              "    border: 2px solid var(--fill-color);\n",
              "    border-color: transparent;\n",
              "    border-bottom-color: var(--fill-color);\n",
              "    animation:\n",
              "      spin 1s steps(1) infinite;\n",
              "  }\n",
              "\n",
              "  @keyframes spin {\n",
              "    0% {\n",
              "      border-color: transparent;\n",
              "      border-bottom-color: var(--fill-color);\n",
              "      border-left-color: var(--fill-color);\n",
              "    }\n",
              "    20% {\n",
              "      border-color: transparent;\n",
              "      border-left-color: var(--fill-color);\n",
              "      border-top-color: var(--fill-color);\n",
              "    }\n",
              "    30% {\n",
              "      border-color: transparent;\n",
              "      border-left-color: var(--fill-color);\n",
              "      border-top-color: var(--fill-color);\n",
              "      border-right-color: var(--fill-color);\n",
              "    }\n",
              "    40% {\n",
              "      border-color: transparent;\n",
              "      border-right-color: var(--fill-color);\n",
              "      border-top-color: var(--fill-color);\n",
              "    }\n",
              "    60% {\n",
              "      border-color: transparent;\n",
              "      border-right-color: var(--fill-color);\n",
              "    }\n",
              "    80% {\n",
              "      border-color: transparent;\n",
              "      border-right-color: var(--fill-color);\n",
              "      border-bottom-color: var(--fill-color);\n",
              "    }\n",
              "    90% {\n",
              "      border-color: transparent;\n",
              "      border-bottom-color: var(--fill-color);\n",
              "    }\n",
              "  }\n",
              "</style>\n",
              "\n",
              "  <script>\n",
              "    async function quickchart(key) {\n",
              "      const quickchartButtonEl =\n",
              "        document.querySelector('#' + key + ' button');\n",
              "      quickchartButtonEl.disabled = true;  // To prevent multiple clicks.\n",
              "      quickchartButtonEl.classList.add('colab-df-spinner');\n",
              "      try {\n",
              "        const charts = await google.colab.kernel.invokeFunction(\n",
              "            'suggestCharts', [key], {});\n",
              "      } catch (error) {\n",
              "        console.error('Error during call to suggestCharts:', error);\n",
              "      }\n",
              "      quickchartButtonEl.classList.remove('colab-df-spinner');\n",
              "      quickchartButtonEl.classList.add('colab-df-quickchart-complete');\n",
              "    }\n",
              "    (() => {\n",
              "      let quickchartButtonEl =\n",
              "        document.querySelector('#df-6b5a17bd-6bbc-467e-b660-1be7a8528665 button');\n",
              "      quickchartButtonEl.style.display =\n",
              "        google.colab.kernel.accessAllowed ? 'block' : 'none';\n",
              "    })();\n",
              "  </script>\n",
              "</div>\n",
              "\n",
              "    </div>\n",
              "  </div>\n"
            ],
            "application/vnd.google.colaboratory.intrinsic+json": {
              "type": "dataframe",
              "variable_name": "df_movies",
              "summary": "{\n  \"name\": \"df_movies\",\n  \"rows\": 9742,\n  \"fields\": [\n    {\n      \"column\": \"movieId\",\n      \"properties\": {\n        \"dtype\": \"number\",\n        \"std\": 52160,\n        \"min\": 1,\n        \"max\": 193609,\n        \"num_unique_values\": 9742,\n        \"samples\": [\n          45635,\n          1373,\n          7325\n        ],\n        \"semantic_type\": \"\",\n        \"description\": \"\"\n      }\n    },\n    {\n      \"column\": \"title\",\n      \"properties\": {\n        \"dtype\": \"string\",\n        \"num_unique_values\": 9737,\n        \"samples\": [\n          \"Teenage Mutant Ninja Turtles (2014)\",\n          \"America's Sweethearts (2001)\",\n          \"Cast Away (2000)\"\n        ],\n        \"semantic_type\": \"\",\n        \"description\": \"\"\n      }\n    },\n    {\n      \"column\": \"genres\",\n      \"properties\": {\n        \"dtype\": \"category\",\n        \"num_unique_values\": 951,\n        \"samples\": [\n          \"Crime|Mystery|Romance|Thriller\",\n          \"Action|Adventure|Comedy|Western\",\n          \"Crime|Drama|Musical\"\n        ],\n        \"semantic_type\": \"\",\n        \"description\": \"\"\n      }\n    }\n  ]\n}"
            }
          },
          "metadata": {},
          "execution_count": 53
        }
      ]
    },
    {
      "cell_type": "markdown",
      "source": [
        "#The shape of movies data set:"
      ],
      "metadata": {
        "id": "R5YcM_x06fGH"
      }
    },
    {
      "cell_type": "code",
      "source": [
        "df_movies.shape"
      ],
      "metadata": {
        "colab": {
          "base_uri": "https://localhost:8080/"
        },
        "id": "zwreU9N8Tgb7",
        "outputId": "5f79d3b5-ec27-4e6e-b534-3272778fa032"
      },
      "execution_count": 54,
      "outputs": [
        {
          "output_type": "execute_result",
          "data": {
            "text/plain": [
              "(9742, 3)"
            ]
          },
          "metadata": {},
          "execution_count": 54
        }
      ]
    },
    {
      "cell_type": "markdown",
      "source": [
        "Observation: The shape of the movies data set is : (9742,3)"
      ],
      "metadata": {
        "id": "8q7VcF-p0X7g"
      }
    },
    {
      "cell_type": "markdown",
      "source": [
        "3. Ratings dataset"
      ],
      "metadata": {
        "id": "mAQjprbnTAE8"
      }
    },
    {
      "cell_type": "code",
      "source": [
        "df_ratings = pd.read_csv('/content/ratings.csv')"
      ],
      "metadata": {
        "id": "1nBNmNjGRhFH"
      },
      "execution_count": 55,
      "outputs": []
    },
    {
      "cell_type": "code",
      "source": [
        "df_ratings.head()"
      ],
      "metadata": {
        "colab": {
          "base_uri": "https://localhost:8080/",
          "height": 206
        },
        "id": "Oz7g3H7DTThV",
        "outputId": "fb61f9a4-5f82-4417-a018-d8015fb51162"
      },
      "execution_count": 56,
      "outputs": [
        {
          "output_type": "execute_result",
          "data": {
            "text/plain": [
              "   userId  movieId  rating  timestamp\n",
              "0       1        1     4.0  964982703\n",
              "1       1        3     4.0  964981247\n",
              "2       1        6     4.0  964982224\n",
              "3       1       47     5.0  964983815\n",
              "4       1       50     5.0  964982931"
            ],
            "text/html": [
              "\n",
              "  <div id=\"df-477af7d9-a7ab-4574-98c0-4a635aabdfb3\" class=\"colab-df-container\">\n",
              "    <div>\n",
              "<style scoped>\n",
              "    .dataframe tbody tr th:only-of-type {\n",
              "        vertical-align: middle;\n",
              "    }\n",
              "\n",
              "    .dataframe tbody tr th {\n",
              "        vertical-align: top;\n",
              "    }\n",
              "\n",
              "    .dataframe thead th {\n",
              "        text-align: right;\n",
              "    }\n",
              "</style>\n",
              "<table border=\"1\" class=\"dataframe\">\n",
              "  <thead>\n",
              "    <tr style=\"text-align: right;\">\n",
              "      <th></th>\n",
              "      <th>userId</th>\n",
              "      <th>movieId</th>\n",
              "      <th>rating</th>\n",
              "      <th>timestamp</th>\n",
              "    </tr>\n",
              "  </thead>\n",
              "  <tbody>\n",
              "    <tr>\n",
              "      <th>0</th>\n",
              "      <td>1</td>\n",
              "      <td>1</td>\n",
              "      <td>4.0</td>\n",
              "      <td>964982703</td>\n",
              "    </tr>\n",
              "    <tr>\n",
              "      <th>1</th>\n",
              "      <td>1</td>\n",
              "      <td>3</td>\n",
              "      <td>4.0</td>\n",
              "      <td>964981247</td>\n",
              "    </tr>\n",
              "    <tr>\n",
              "      <th>2</th>\n",
              "      <td>1</td>\n",
              "      <td>6</td>\n",
              "      <td>4.0</td>\n",
              "      <td>964982224</td>\n",
              "    </tr>\n",
              "    <tr>\n",
              "      <th>3</th>\n",
              "      <td>1</td>\n",
              "      <td>47</td>\n",
              "      <td>5.0</td>\n",
              "      <td>964983815</td>\n",
              "    </tr>\n",
              "    <tr>\n",
              "      <th>4</th>\n",
              "      <td>1</td>\n",
              "      <td>50</td>\n",
              "      <td>5.0</td>\n",
              "      <td>964982931</td>\n",
              "    </tr>\n",
              "  </tbody>\n",
              "</table>\n",
              "</div>\n",
              "    <div class=\"colab-df-buttons\">\n",
              "\n",
              "  <div class=\"colab-df-container\">\n",
              "    <button class=\"colab-df-convert\" onclick=\"convertToInteractive('df-477af7d9-a7ab-4574-98c0-4a635aabdfb3')\"\n",
              "            title=\"Convert this dataframe to an interactive table.\"\n",
              "            style=\"display:none;\">\n",
              "\n",
              "  <svg xmlns=\"http://www.w3.org/2000/svg\" height=\"24px\" viewBox=\"0 -960 960 960\">\n",
              "    <path d=\"M120-120v-720h720v720H120Zm60-500h600v-160H180v160Zm220 220h160v-160H400v160Zm0 220h160v-160H400v160ZM180-400h160v-160H180v160Zm440 0h160v-160H620v160ZM180-180h160v-160H180v160Zm440 0h160v-160H620v160Z\"/>\n",
              "  </svg>\n",
              "    </button>\n",
              "\n",
              "  <style>\n",
              "    .colab-df-container {\n",
              "      display:flex;\n",
              "      gap: 12px;\n",
              "    }\n",
              "\n",
              "    .colab-df-convert {\n",
              "      background-color: #E8F0FE;\n",
              "      border: none;\n",
              "      border-radius: 50%;\n",
              "      cursor: pointer;\n",
              "      display: none;\n",
              "      fill: #1967D2;\n",
              "      height: 32px;\n",
              "      padding: 0 0 0 0;\n",
              "      width: 32px;\n",
              "    }\n",
              "\n",
              "    .colab-df-convert:hover {\n",
              "      background-color: #E2EBFA;\n",
              "      box-shadow: 0px 1px 2px rgba(60, 64, 67, 0.3), 0px 1px 3px 1px rgba(60, 64, 67, 0.15);\n",
              "      fill: #174EA6;\n",
              "    }\n",
              "\n",
              "    .colab-df-buttons div {\n",
              "      margin-bottom: 4px;\n",
              "    }\n",
              "\n",
              "    [theme=dark] .colab-df-convert {\n",
              "      background-color: #3B4455;\n",
              "      fill: #D2E3FC;\n",
              "    }\n",
              "\n",
              "    [theme=dark] .colab-df-convert:hover {\n",
              "      background-color: #434B5C;\n",
              "      box-shadow: 0px 1px 3px 1px rgba(0, 0, 0, 0.15);\n",
              "      filter: drop-shadow(0px 1px 2px rgba(0, 0, 0, 0.3));\n",
              "      fill: #FFFFFF;\n",
              "    }\n",
              "  </style>\n",
              "\n",
              "    <script>\n",
              "      const buttonEl =\n",
              "        document.querySelector('#df-477af7d9-a7ab-4574-98c0-4a635aabdfb3 button.colab-df-convert');\n",
              "      buttonEl.style.display =\n",
              "        google.colab.kernel.accessAllowed ? 'block' : 'none';\n",
              "\n",
              "      async function convertToInteractive(key) {\n",
              "        const element = document.querySelector('#df-477af7d9-a7ab-4574-98c0-4a635aabdfb3');\n",
              "        const dataTable =\n",
              "          await google.colab.kernel.invokeFunction('convertToInteractive',\n",
              "                                                    [key], {});\n",
              "        if (!dataTable) return;\n",
              "\n",
              "        const docLinkHtml = 'Like what you see? Visit the ' +\n",
              "          '<a target=\"_blank\" href=https://colab.research.google.com/notebooks/data_table.ipynb>data table notebook</a>'\n",
              "          + ' to learn more about interactive tables.';\n",
              "        element.innerHTML = '';\n",
              "        dataTable['output_type'] = 'display_data';\n",
              "        await google.colab.output.renderOutput(dataTable, element);\n",
              "        const docLink = document.createElement('div');\n",
              "        docLink.innerHTML = docLinkHtml;\n",
              "        element.appendChild(docLink);\n",
              "      }\n",
              "    </script>\n",
              "  </div>\n",
              "\n",
              "\n",
              "<div id=\"df-d8781361-a7ba-4494-a52e-3420239ff29e\">\n",
              "  <button class=\"colab-df-quickchart\" onclick=\"quickchart('df-d8781361-a7ba-4494-a52e-3420239ff29e')\"\n",
              "            title=\"Suggest charts\"\n",
              "            style=\"display:none;\">\n",
              "\n",
              "<svg xmlns=\"http://www.w3.org/2000/svg\" height=\"24px\"viewBox=\"0 0 24 24\"\n",
              "     width=\"24px\">\n",
              "    <g>\n",
              "        <path d=\"M19 3H5c-1.1 0-2 .9-2 2v14c0 1.1.9 2 2 2h14c1.1 0 2-.9 2-2V5c0-1.1-.9-2-2-2zM9 17H7v-7h2v7zm4 0h-2V7h2v10zm4 0h-2v-4h2v4z\"/>\n",
              "    </g>\n",
              "</svg>\n",
              "  </button>\n",
              "\n",
              "<style>\n",
              "  .colab-df-quickchart {\n",
              "      --bg-color: #E8F0FE;\n",
              "      --fill-color: #1967D2;\n",
              "      --hover-bg-color: #E2EBFA;\n",
              "      --hover-fill-color: #174EA6;\n",
              "      --disabled-fill-color: #AAA;\n",
              "      --disabled-bg-color: #DDD;\n",
              "  }\n",
              "\n",
              "  [theme=dark] .colab-df-quickchart {\n",
              "      --bg-color: #3B4455;\n",
              "      --fill-color: #D2E3FC;\n",
              "      --hover-bg-color: #434B5C;\n",
              "      --hover-fill-color: #FFFFFF;\n",
              "      --disabled-bg-color: #3B4455;\n",
              "      --disabled-fill-color: #666;\n",
              "  }\n",
              "\n",
              "  .colab-df-quickchart {\n",
              "    background-color: var(--bg-color);\n",
              "    border: none;\n",
              "    border-radius: 50%;\n",
              "    cursor: pointer;\n",
              "    display: none;\n",
              "    fill: var(--fill-color);\n",
              "    height: 32px;\n",
              "    padding: 0;\n",
              "    width: 32px;\n",
              "  }\n",
              "\n",
              "  .colab-df-quickchart:hover {\n",
              "    background-color: var(--hover-bg-color);\n",
              "    box-shadow: 0 1px 2px rgba(60, 64, 67, 0.3), 0 1px 3px 1px rgba(60, 64, 67, 0.15);\n",
              "    fill: var(--button-hover-fill-color);\n",
              "  }\n",
              "\n",
              "  .colab-df-quickchart-complete:disabled,\n",
              "  .colab-df-quickchart-complete:disabled:hover {\n",
              "    background-color: var(--disabled-bg-color);\n",
              "    fill: var(--disabled-fill-color);\n",
              "    box-shadow: none;\n",
              "  }\n",
              "\n",
              "  .colab-df-spinner {\n",
              "    border: 2px solid var(--fill-color);\n",
              "    border-color: transparent;\n",
              "    border-bottom-color: var(--fill-color);\n",
              "    animation:\n",
              "      spin 1s steps(1) infinite;\n",
              "  }\n",
              "\n",
              "  @keyframes spin {\n",
              "    0% {\n",
              "      border-color: transparent;\n",
              "      border-bottom-color: var(--fill-color);\n",
              "      border-left-color: var(--fill-color);\n",
              "    }\n",
              "    20% {\n",
              "      border-color: transparent;\n",
              "      border-left-color: var(--fill-color);\n",
              "      border-top-color: var(--fill-color);\n",
              "    }\n",
              "    30% {\n",
              "      border-color: transparent;\n",
              "      border-left-color: var(--fill-color);\n",
              "      border-top-color: var(--fill-color);\n",
              "      border-right-color: var(--fill-color);\n",
              "    }\n",
              "    40% {\n",
              "      border-color: transparent;\n",
              "      border-right-color: var(--fill-color);\n",
              "      border-top-color: var(--fill-color);\n",
              "    }\n",
              "    60% {\n",
              "      border-color: transparent;\n",
              "      border-right-color: var(--fill-color);\n",
              "    }\n",
              "    80% {\n",
              "      border-color: transparent;\n",
              "      border-right-color: var(--fill-color);\n",
              "      border-bottom-color: var(--fill-color);\n",
              "    }\n",
              "    90% {\n",
              "      border-color: transparent;\n",
              "      border-bottom-color: var(--fill-color);\n",
              "    }\n",
              "  }\n",
              "</style>\n",
              "\n",
              "  <script>\n",
              "    async function quickchart(key) {\n",
              "      const quickchartButtonEl =\n",
              "        document.querySelector('#' + key + ' button');\n",
              "      quickchartButtonEl.disabled = true;  // To prevent multiple clicks.\n",
              "      quickchartButtonEl.classList.add('colab-df-spinner');\n",
              "      try {\n",
              "        const charts = await google.colab.kernel.invokeFunction(\n",
              "            'suggestCharts', [key], {});\n",
              "      } catch (error) {\n",
              "        console.error('Error during call to suggestCharts:', error);\n",
              "      }\n",
              "      quickchartButtonEl.classList.remove('colab-df-spinner');\n",
              "      quickchartButtonEl.classList.add('colab-df-quickchart-complete');\n",
              "    }\n",
              "    (() => {\n",
              "      let quickchartButtonEl =\n",
              "        document.querySelector('#df-d8781361-a7ba-4494-a52e-3420239ff29e button');\n",
              "      quickchartButtonEl.style.display =\n",
              "        google.colab.kernel.accessAllowed ? 'block' : 'none';\n",
              "    })();\n",
              "  </script>\n",
              "</div>\n",
              "\n",
              "    </div>\n",
              "  </div>\n"
            ],
            "application/vnd.google.colaboratory.intrinsic+json": {
              "type": "dataframe",
              "variable_name": "df_ratings"
            }
          },
          "metadata": {},
          "execution_count": 56
        }
      ]
    },
    {
      "cell_type": "markdown",
      "source": [
        "#The shape of ratings data set :"
      ],
      "metadata": {
        "id": "jAxSdMBV6lbL"
      }
    },
    {
      "cell_type": "code",
      "source": [
        "df_ratings.shape"
      ],
      "metadata": {
        "colab": {
          "base_uri": "https://localhost:8080/"
        },
        "id": "nA60M9FrTYdt",
        "outputId": "52f0ab0b-1318-4caa-fe8b-cce502567f51"
      },
      "execution_count": 57,
      "outputs": [
        {
          "output_type": "execute_result",
          "data": {
            "text/plain": [
              "(100836, 4)"
            ]
          },
          "metadata": {},
          "execution_count": 57
        }
      ]
    },
    {
      "cell_type": "markdown",
      "source": [
        "Observation: The shape of ratings data set is (100836)"
      ],
      "metadata": {
        "id": "fgWEz3SY0jn5"
      }
    },
    {
      "cell_type": "markdown",
      "source": [
        "4. Tags dataset\n"
      ],
      "metadata": {
        "id": "XhXZmGgxzAWt"
      }
    },
    {
      "cell_type": "code",
      "source": [
        "df_tags = pd.read_csv('/content/tags.csv')"
      ],
      "metadata": {
        "id": "F767LWRIy_QS"
      },
      "execution_count": 58,
      "outputs": []
    },
    {
      "cell_type": "code",
      "source": [
        "df_tags.head()"
      ],
      "metadata": {
        "colab": {
          "base_uri": "https://localhost:8080/",
          "height": 206
        },
        "id": "VtcFG3vizMio",
        "outputId": "74b0f902-aaeb-449e-e8aa-c04a4dd74f84"
      },
      "execution_count": 59,
      "outputs": [
        {
          "output_type": "execute_result",
          "data": {
            "text/plain": [
              "   userId  movieId              tag   timestamp\n",
              "0       2    60756            funny  1445714994\n",
              "1       2    60756  Highly quotable  1445714996\n",
              "2       2    60756     will ferrell  1445714992\n",
              "3       2    89774     Boxing story  1445715207\n",
              "4       2    89774              MMA  1445715200"
            ],
            "text/html": [
              "\n",
              "  <div id=\"df-f6390ea1-403a-45cb-b7c8-5f0a46304bf9\" class=\"colab-df-container\">\n",
              "    <div>\n",
              "<style scoped>\n",
              "    .dataframe tbody tr th:only-of-type {\n",
              "        vertical-align: middle;\n",
              "    }\n",
              "\n",
              "    .dataframe tbody tr th {\n",
              "        vertical-align: top;\n",
              "    }\n",
              "\n",
              "    .dataframe thead th {\n",
              "        text-align: right;\n",
              "    }\n",
              "</style>\n",
              "<table border=\"1\" class=\"dataframe\">\n",
              "  <thead>\n",
              "    <tr style=\"text-align: right;\">\n",
              "      <th></th>\n",
              "      <th>userId</th>\n",
              "      <th>movieId</th>\n",
              "      <th>tag</th>\n",
              "      <th>timestamp</th>\n",
              "    </tr>\n",
              "  </thead>\n",
              "  <tbody>\n",
              "    <tr>\n",
              "      <th>0</th>\n",
              "      <td>2</td>\n",
              "      <td>60756</td>\n",
              "      <td>funny</td>\n",
              "      <td>1445714994</td>\n",
              "    </tr>\n",
              "    <tr>\n",
              "      <th>1</th>\n",
              "      <td>2</td>\n",
              "      <td>60756</td>\n",
              "      <td>Highly quotable</td>\n",
              "      <td>1445714996</td>\n",
              "    </tr>\n",
              "    <tr>\n",
              "      <th>2</th>\n",
              "      <td>2</td>\n",
              "      <td>60756</td>\n",
              "      <td>will ferrell</td>\n",
              "      <td>1445714992</td>\n",
              "    </tr>\n",
              "    <tr>\n",
              "      <th>3</th>\n",
              "      <td>2</td>\n",
              "      <td>89774</td>\n",
              "      <td>Boxing story</td>\n",
              "      <td>1445715207</td>\n",
              "    </tr>\n",
              "    <tr>\n",
              "      <th>4</th>\n",
              "      <td>2</td>\n",
              "      <td>89774</td>\n",
              "      <td>MMA</td>\n",
              "      <td>1445715200</td>\n",
              "    </tr>\n",
              "  </tbody>\n",
              "</table>\n",
              "</div>\n",
              "    <div class=\"colab-df-buttons\">\n",
              "\n",
              "  <div class=\"colab-df-container\">\n",
              "    <button class=\"colab-df-convert\" onclick=\"convertToInteractive('df-f6390ea1-403a-45cb-b7c8-5f0a46304bf9')\"\n",
              "            title=\"Convert this dataframe to an interactive table.\"\n",
              "            style=\"display:none;\">\n",
              "\n",
              "  <svg xmlns=\"http://www.w3.org/2000/svg\" height=\"24px\" viewBox=\"0 -960 960 960\">\n",
              "    <path d=\"M120-120v-720h720v720H120Zm60-500h600v-160H180v160Zm220 220h160v-160H400v160Zm0 220h160v-160H400v160ZM180-400h160v-160H180v160Zm440 0h160v-160H620v160ZM180-180h160v-160H180v160Zm440 0h160v-160H620v160Z\"/>\n",
              "  </svg>\n",
              "    </button>\n",
              "\n",
              "  <style>\n",
              "    .colab-df-container {\n",
              "      display:flex;\n",
              "      gap: 12px;\n",
              "    }\n",
              "\n",
              "    .colab-df-convert {\n",
              "      background-color: #E8F0FE;\n",
              "      border: none;\n",
              "      border-radius: 50%;\n",
              "      cursor: pointer;\n",
              "      display: none;\n",
              "      fill: #1967D2;\n",
              "      height: 32px;\n",
              "      padding: 0 0 0 0;\n",
              "      width: 32px;\n",
              "    }\n",
              "\n",
              "    .colab-df-convert:hover {\n",
              "      background-color: #E2EBFA;\n",
              "      box-shadow: 0px 1px 2px rgba(60, 64, 67, 0.3), 0px 1px 3px 1px rgba(60, 64, 67, 0.15);\n",
              "      fill: #174EA6;\n",
              "    }\n",
              "\n",
              "    .colab-df-buttons div {\n",
              "      margin-bottom: 4px;\n",
              "    }\n",
              "\n",
              "    [theme=dark] .colab-df-convert {\n",
              "      background-color: #3B4455;\n",
              "      fill: #D2E3FC;\n",
              "    }\n",
              "\n",
              "    [theme=dark] .colab-df-convert:hover {\n",
              "      background-color: #434B5C;\n",
              "      box-shadow: 0px 1px 3px 1px rgba(0, 0, 0, 0.15);\n",
              "      filter: drop-shadow(0px 1px 2px rgba(0, 0, 0, 0.3));\n",
              "      fill: #FFFFFF;\n",
              "    }\n",
              "  </style>\n",
              "\n",
              "    <script>\n",
              "      const buttonEl =\n",
              "        document.querySelector('#df-f6390ea1-403a-45cb-b7c8-5f0a46304bf9 button.colab-df-convert');\n",
              "      buttonEl.style.display =\n",
              "        google.colab.kernel.accessAllowed ? 'block' : 'none';\n",
              "\n",
              "      async function convertToInteractive(key) {\n",
              "        const element = document.querySelector('#df-f6390ea1-403a-45cb-b7c8-5f0a46304bf9');\n",
              "        const dataTable =\n",
              "          await google.colab.kernel.invokeFunction('convertToInteractive',\n",
              "                                                    [key], {});\n",
              "        if (!dataTable) return;\n",
              "\n",
              "        const docLinkHtml = 'Like what you see? Visit the ' +\n",
              "          '<a target=\"_blank\" href=https://colab.research.google.com/notebooks/data_table.ipynb>data table notebook</a>'\n",
              "          + ' to learn more about interactive tables.';\n",
              "        element.innerHTML = '';\n",
              "        dataTable['output_type'] = 'display_data';\n",
              "        await google.colab.output.renderOutput(dataTable, element);\n",
              "        const docLink = document.createElement('div');\n",
              "        docLink.innerHTML = docLinkHtml;\n",
              "        element.appendChild(docLink);\n",
              "      }\n",
              "    </script>\n",
              "  </div>\n",
              "\n",
              "\n",
              "<div id=\"df-23ce5e1e-d639-44b1-b975-e334de1dd0cc\">\n",
              "  <button class=\"colab-df-quickchart\" onclick=\"quickchart('df-23ce5e1e-d639-44b1-b975-e334de1dd0cc')\"\n",
              "            title=\"Suggest charts\"\n",
              "            style=\"display:none;\">\n",
              "\n",
              "<svg xmlns=\"http://www.w3.org/2000/svg\" height=\"24px\"viewBox=\"0 0 24 24\"\n",
              "     width=\"24px\">\n",
              "    <g>\n",
              "        <path d=\"M19 3H5c-1.1 0-2 .9-2 2v14c0 1.1.9 2 2 2h14c1.1 0 2-.9 2-2V5c0-1.1-.9-2-2-2zM9 17H7v-7h2v7zm4 0h-2V7h2v10zm4 0h-2v-4h2v4z\"/>\n",
              "    </g>\n",
              "</svg>\n",
              "  </button>\n",
              "\n",
              "<style>\n",
              "  .colab-df-quickchart {\n",
              "      --bg-color: #E8F0FE;\n",
              "      --fill-color: #1967D2;\n",
              "      --hover-bg-color: #E2EBFA;\n",
              "      --hover-fill-color: #174EA6;\n",
              "      --disabled-fill-color: #AAA;\n",
              "      --disabled-bg-color: #DDD;\n",
              "  }\n",
              "\n",
              "  [theme=dark] .colab-df-quickchart {\n",
              "      --bg-color: #3B4455;\n",
              "      --fill-color: #D2E3FC;\n",
              "      --hover-bg-color: #434B5C;\n",
              "      --hover-fill-color: #FFFFFF;\n",
              "      --disabled-bg-color: #3B4455;\n",
              "      --disabled-fill-color: #666;\n",
              "  }\n",
              "\n",
              "  .colab-df-quickchart {\n",
              "    background-color: var(--bg-color);\n",
              "    border: none;\n",
              "    border-radius: 50%;\n",
              "    cursor: pointer;\n",
              "    display: none;\n",
              "    fill: var(--fill-color);\n",
              "    height: 32px;\n",
              "    padding: 0;\n",
              "    width: 32px;\n",
              "  }\n",
              "\n",
              "  .colab-df-quickchart:hover {\n",
              "    background-color: var(--hover-bg-color);\n",
              "    box-shadow: 0 1px 2px rgba(60, 64, 67, 0.3), 0 1px 3px 1px rgba(60, 64, 67, 0.15);\n",
              "    fill: var(--button-hover-fill-color);\n",
              "  }\n",
              "\n",
              "  .colab-df-quickchart-complete:disabled,\n",
              "  .colab-df-quickchart-complete:disabled:hover {\n",
              "    background-color: var(--disabled-bg-color);\n",
              "    fill: var(--disabled-fill-color);\n",
              "    box-shadow: none;\n",
              "  }\n",
              "\n",
              "  .colab-df-spinner {\n",
              "    border: 2px solid var(--fill-color);\n",
              "    border-color: transparent;\n",
              "    border-bottom-color: var(--fill-color);\n",
              "    animation:\n",
              "      spin 1s steps(1) infinite;\n",
              "  }\n",
              "\n",
              "  @keyframes spin {\n",
              "    0% {\n",
              "      border-color: transparent;\n",
              "      border-bottom-color: var(--fill-color);\n",
              "      border-left-color: var(--fill-color);\n",
              "    }\n",
              "    20% {\n",
              "      border-color: transparent;\n",
              "      border-left-color: var(--fill-color);\n",
              "      border-top-color: var(--fill-color);\n",
              "    }\n",
              "    30% {\n",
              "      border-color: transparent;\n",
              "      border-left-color: var(--fill-color);\n",
              "      border-top-color: var(--fill-color);\n",
              "      border-right-color: var(--fill-color);\n",
              "    }\n",
              "    40% {\n",
              "      border-color: transparent;\n",
              "      border-right-color: var(--fill-color);\n",
              "      border-top-color: var(--fill-color);\n",
              "    }\n",
              "    60% {\n",
              "      border-color: transparent;\n",
              "      border-right-color: var(--fill-color);\n",
              "    }\n",
              "    80% {\n",
              "      border-color: transparent;\n",
              "      border-right-color: var(--fill-color);\n",
              "      border-bottom-color: var(--fill-color);\n",
              "    }\n",
              "    90% {\n",
              "      border-color: transparent;\n",
              "      border-bottom-color: var(--fill-color);\n",
              "    }\n",
              "  }\n",
              "</style>\n",
              "\n",
              "  <script>\n",
              "    async function quickchart(key) {\n",
              "      const quickchartButtonEl =\n",
              "        document.querySelector('#' + key + ' button');\n",
              "      quickchartButtonEl.disabled = true;  // To prevent multiple clicks.\n",
              "      quickchartButtonEl.classList.add('colab-df-spinner');\n",
              "      try {\n",
              "        const charts = await google.colab.kernel.invokeFunction(\n",
              "            'suggestCharts', [key], {});\n",
              "      } catch (error) {\n",
              "        console.error('Error during call to suggestCharts:', error);\n",
              "      }\n",
              "      quickchartButtonEl.classList.remove('colab-df-spinner');\n",
              "      quickchartButtonEl.classList.add('colab-df-quickchart-complete');\n",
              "    }\n",
              "    (() => {\n",
              "      let quickchartButtonEl =\n",
              "        document.querySelector('#df-23ce5e1e-d639-44b1-b975-e334de1dd0cc button');\n",
              "      quickchartButtonEl.style.display =\n",
              "        google.colab.kernel.accessAllowed ? 'block' : 'none';\n",
              "    })();\n",
              "  </script>\n",
              "</div>\n",
              "\n",
              "    </div>\n",
              "  </div>\n"
            ],
            "application/vnd.google.colaboratory.intrinsic+json": {
              "type": "dataframe",
              "variable_name": "df_tags",
              "summary": "{\n  \"name\": \"df_tags\",\n  \"rows\": 3683,\n  \"fields\": [\n    {\n      \"column\": \"userId\",\n      \"properties\": {\n        \"dtype\": \"number\",\n        \"std\": 158,\n        \"min\": 2,\n        \"max\": 610,\n        \"num_unique_values\": 58,\n        \"samples\": [\n          2,\n          62,\n          341\n        ],\n        \"semantic_type\": \"\",\n        \"description\": \"\"\n      }\n    },\n    {\n      \"column\": \"movieId\",\n      \"properties\": {\n        \"dtype\": \"number\",\n        \"std\": 43490,\n        \"min\": 1,\n        \"max\": 193565,\n        \"num_unique_values\": 1572,\n        \"samples\": [\n          6296,\n          2939,\n          6708\n        ],\n        \"semantic_type\": \"\",\n        \"description\": \"\"\n      }\n    },\n    {\n      \"column\": \"tag\",\n      \"properties\": {\n        \"dtype\": \"category\",\n        \"num_unique_values\": 1589,\n        \"samples\": [\n          \"Grace\",\n          \"documentary\",\n          \"homosexuality\"\n        ],\n        \"semantic_type\": \"\",\n        \"description\": \"\"\n      }\n    },\n    {\n      \"column\": \"timestamp\",\n      \"properties\": {\n        \"dtype\": \"number\",\n        \"std\": 172102450,\n        \"min\": 1137179352,\n        \"max\": 1537098603,\n        \"num_unique_values\": 3411,\n        \"samples\": [\n          1498456527,\n          1137192017,\n          1525554215\n        ],\n        \"semantic_type\": \"\",\n        \"description\": \"\"\n      }\n    }\n  ]\n}"
            }
          },
          "metadata": {},
          "execution_count": 59
        }
      ]
    },
    {
      "cell_type": "code",
      "source": [
        "df_tags.shape"
      ],
      "metadata": {
        "colab": {
          "base_uri": "https://localhost:8080/"
        },
        "id": "XYdKOlQtzNsq",
        "outputId": "f174e632-0839-4e0c-aa78-85a27ed976eb"
      },
      "execution_count": 60,
      "outputs": [
        {
          "output_type": "execute_result",
          "data": {
            "text/plain": [
              "(3683, 4)"
            ]
          },
          "metadata": {},
          "execution_count": 60
        }
      ]
    },
    {
      "cell_type": "markdown",
      "source": [
        "#Total number of CSV files"
      ],
      "metadata": {
        "id": "xPTB4RQ6-yD6"
      }
    },
    {
      "cell_type": "code",
      "source": [
        "import os\n",
        "directory = '/content/'\n",
        "files = os.listdir(directory)\n",
        "csv_files = [file for file in files if file.endswith('.csv')]\n",
        "csv_count = len(csv_files)\n",
        "\n",
        "print(f\"Number of CSV files: {csv_count}\")"
      ],
      "metadata": {
        "colab": {
          "base_uri": "https://localhost:8080/"
        },
        "id": "jaNf_LBq_MQb",
        "outputId": "9a6ea710-3458-45ed-acfb-0905e9c0a192"
      },
      "execution_count": 61,
      "outputs": [
        {
          "output_type": "stream",
          "name": "stdout",
          "text": [
            "Number of CSV files: 4\n"
          ]
        }
      ]
    },
    {
      "cell_type": "markdown",
      "source": [
        "Observation: The total number of csv files are 4"
      ],
      "metadata": {
        "id": "Py7ru9v__Two"
      }
    },
    {
      "cell_type": "markdown",
      "source": [
        "#Unique \"userId\" available in \"ratings.csv\":"
      ],
      "metadata": {
        "id": "1QMgN66l0wuG"
      }
    },
    {
      "cell_type": "code",
      "source": [
        "df_ratings['userId'].nunique()"
      ],
      "metadata": {
        "colab": {
          "base_uri": "https://localhost:8080/"
        },
        "id": "YAgLy8Noyzmp",
        "outputId": "aa38b3e1-5010-4aae-e6c2-1e00274f1930"
      },
      "execution_count": 62,
      "outputs": [
        {
          "output_type": "execute_result",
          "data": {
            "text/plain": [
              "610"
            ]
          },
          "metadata": {},
          "execution_count": 62
        }
      ]
    },
    {
      "cell_type": "markdown",
      "source": [
        "Observation: There are 610 unique values in ratings.csv file"
      ],
      "metadata": {
        "id": "A56HMFoP066_"
      }
    },
    {
      "cell_type": "markdown",
      "source": [
        "#Movies with the maximum number of ratings"
      ],
      "metadata": {
        "id": "t9HZuQUu4X7g"
      }
    },
    {
      "cell_type": "code",
      "source": [
        "movie_ratings_count = df_ratings.groupby('movieId')['rating'].count()\n",
        "most_rated_movie_id = movie_ratings_count.idxmax()\n",
        "most_rated_movie_name = df_movies[df_movies['movieId'] == most_rated_movie_id]['title'].values[0]\n",
        "print(f\"Movie with the most ratings: {most_rated_movie_name}\")"
      ],
      "metadata": {
        "colab": {
          "base_uri": "https://localhost:8080/"
        },
        "id": "seVhpenhVbGX",
        "outputId": "1fefb21e-4e5b-4091-8869-c653e32259b2"
      },
      "execution_count": 63,
      "outputs": [
        {
          "output_type": "stream",
          "name": "stdout",
          "text": [
            "Movie with the most ratings: Forrest Gump (1994)\n"
          ]
        }
      ]
    },
    {
      "cell_type": "markdown",
      "source": [
        "Observation : Forrest Gump (1994) has recieved maximum number of user ratings\n"
      ],
      "metadata": {
        "id": "FiAUAwSd1GoK"
      }
    },
    {
      "cell_type": "markdown",
      "source": [
        "#Unique tags submitted by users for 'Matrix, The (1999)'"
      ],
      "metadata": {
        "id": "JTmZnm9n4q4L"
      }
    },
    {
      "cell_type": "code",
      "source": [
        "matrix_movie_id = df_movies[df_movies['title'] == 'Matrix, The (1999)']['movieId'].values[0]\n",
        "matrix_tags = df_tags[df_tags['movieId'] == matrix_movie_id]['tag']\n",
        "unique_matrix_tags = matrix_tags.unique()\n",
        "print(f\"Unique tags submitted by users for 'Matrix, The (1999)': {list(unique_matrix_tags)}\")"
      ],
      "metadata": {
        "colab": {
          "base_uri": "https://localhost:8080/"
        },
        "id": "s4ywLFNC1o2j",
        "outputId": "b62db32b-e011-4be8-c603-9d9945496cb2"
      },
      "execution_count": 64,
      "outputs": [
        {
          "output_type": "stream",
          "name": "stdout",
          "text": [
            "Unique tags submitted by users for 'Matrix, The (1999)': ['martial arts', 'sci-fi', 'alternate universe', 'philosophy', 'post apocalyptic']\n"
          ]
        }
      ]
    },
    {
      "cell_type": "markdown",
      "source": [
        "Observation : The correct tags submitted by users to \"Matrix, The (1999)\" movie are:  ['martial arts', 'sci-fi', 'alternate universe', 'philosophy', 'post apocalyptic']"
      ],
      "metadata": {
        "id": "Y0yFedSB14BP"
      }
    },
    {
      "cell_type": "markdown",
      "source": [
        "#Average user rating for 'Terminator 2: Judgment Day (1991)'"
      ],
      "metadata": {
        "id": "8BWSTif64vRX"
      }
    },
    {
      "cell_type": "code",
      "source": [
        "movie_id = df_movies[df_movies['title'] == 'Terminator 2: Judgment Day (1991)']['movieId'].values[0]\n",
        "terminator_ratings = df_ratings[df_ratings['movieId'] == movie_id]['rating']\n",
        "average_rating = terminator_ratings.mean()\n",
        "print(f\"Average user rating for 'Terminator 2: Judgment Day (1991)': {average_rating}\")"
      ],
      "metadata": {
        "colab": {
          "base_uri": "https://localhost:8080/"
        },
        "id": "3e4IA6vLdIK5",
        "outputId": "f994545d-6faf-444e-ae7a-05d108b972a2"
      },
      "execution_count": 65,
      "outputs": [
        {
          "output_type": "stream",
          "name": "stdout",
          "text": [
            "Average user rating for 'Terminator 2: Judgment Day (1991)': 3.970982142857143\n"
          ]
        }
      ]
    },
    {
      "cell_type": "markdown",
      "source": [
        "Observation : The average user rating for movie named \"Terminator 2: Judgment Day (1991)\" is 3.970982142857143"
      ],
      "metadata": {
        "id": "Bi5SyEum2SW3"
      }
    },
    {
      "cell_type": "markdown",
      "source": [
        "#The data distribution of user ratings for 'Fight Club (1999)'"
      ],
      "metadata": {
        "id": "-PZGNf4U4_P5"
      }
    },
    {
      "cell_type": "code",
      "source": [
        "fight_club_movie_id = df_movies[df_movies['title'] == 'Fight Club (1999)']['movieId'].values[0]\n",
        "fight_club_ratings = df_ratings[df_ratings['movieId'] == fight_club_movie_id]['rating']\n",
        "plt.figure(figsize=(8, 6))\n",
        "plt.hist(fight_club_ratings, bins=10, edgecolor='black', alpha=0.7)\n",
        "plt.title('Distribution of User Ratings for \"Fight Club (1999)\"')\n",
        "plt.xlabel('Rating')\n",
        "plt.ylabel('Frequency')\n",
        "plt.grid(axis='y')\n",
        "plt.show()"
      ],
      "metadata": {
        "colab": {
          "base_uri": "https://localhost:8080/",
          "height": 564
        },
        "id": "GugLJVnzdef3",
        "outputId": "a33f3c94-6353-4062-8860-3a841d4b8962"
      },
      "execution_count": 66,
      "outputs": [
        {
          "output_type": "display_data",
          "data": {
            "text/plain": [
              "<Figure size 800x600 with 1 Axes>"
            ],
            "image/png": "[encoded data removed]"
          },
          "metadata": {}
        }
      ]
    },
    {
      "cell_type": "markdown",
      "source": [
        "Observation: The data distribution of user ratings for \"Fight Club (1999)\" movie look likes left skewed distribution"
      ],
      "metadata": {
        "id": "zNWgKuac2dO5"
      }
    },
    {
      "cell_type": "markdown",
      "source": [
        "\n",
        "#Mandatory Operations:\n",
        "1. Group the user ratings based on movieId and apply aggregation operations like count and mean on ratings.\n",
        "2. Apply inner join on dataframe created from movies.csv and the grouped df from step 1.\n",
        "3. Filter only those movies which have more than 50 user ratings (i.e. > 50).\n"
      ],
      "metadata": {
        "id": "luMiSo-o23lz"
      }
    },
    {
      "cell_type": "code",
      "source": [
        "#1. Group the user ratings based on movieId and apply aggregation operations like count and mean on ratings.\n",
        "aggregated_ratings = df_ratings.groupby('movieId')['rating'].agg(['count', 'mean'])\n",
        "print(aggregated_ratings.head())"
      ],
      "metadata": {
        "colab": {
          "base_uri": "https://localhost:8080/"
        },
        "id": "sSNEXjzve_Am",
        "outputId": "d5a1d607-6316-4c8b-f4a5-526f90a15e12"
      },
      "execution_count": 67,
      "outputs": [
        {
          "output_type": "stream",
          "name": "stdout",
          "text": [
            "         count      mean\n",
            "movieId                 \n",
            "1          215  3.920930\n",
            "2          110  3.431818\n",
            "3           52  3.259615\n",
            "4            7  2.357143\n",
            "5           49  3.071429\n"
          ]
        }
      ]
    },
    {
      "cell_type": "code",
      "source": [
        "#2.Apply inner join on dataframe created from movies.csv and the grouped df from step 1.\n",
        "aggregated_ratings = df_ratings.groupby('movieId')['rating'].agg(['count', 'mean']).reset_index()\n",
        "merged_df = pd.merge(df_movies, aggregated_ratings, on='movieId', how='inner')\n",
        "print(merged_df.head())"
      ],
      "metadata": {
        "colab": {
          "base_uri": "https://localhost:8080/"
        },
        "id": "Y4L9bLlZfXUG",
        "outputId": "1edda843-bc24-4295-8904-6aeb56caa51f"
      },
      "execution_count": 68,
      "outputs": [
        {
          "output_type": "stream",
          "name": "stdout",
          "text": [
            "   movieId                               title  \\\n",
            "0        1                    Toy Story (1995)   \n",
            "1        2                      Jumanji (1995)   \n",
            "2        3             Grumpier Old Men (1995)   \n",
            "3        4            Waiting to Exhale (1995)   \n",
            "4        5  Father of the Bride Part II (1995)   \n",
            "\n",
            "                                        genres  count      mean  \n",
            "0  Adventure|Animation|Children|Comedy|Fantasy    215  3.920930  \n",
            "1                   Adventure|Children|Fantasy    110  3.431818  \n",
            "2                               Comedy|Romance     52  3.259615  \n",
            "3                         Comedy|Drama|Romance      7  2.357143  \n",
            "4                                       Comedy     49  3.071429  \n"
          ]
        }
      ]
    },
    {
      "cell_type": "code",
      "source": [
        "#3. Filter only those movies which have more than 50 user ratings (i.e. > 50).\n",
        "aggregated_ratings = df_ratings.groupby('movieId')['rating'].agg(['count', 'mean']).reset_index()\n",
        "merged_df = pd.merge(df_movies, aggregated_ratings, on='movieId', how='inner')\n",
        "filtered_movies = merged_df[merged_df['count'] > 50]\n",
        "print(filtered_movies.head())"
      ],
      "metadata": {
        "colab": {
          "base_uri": "https://localhost:8080/"
        },
        "id": "EeReUTz5fhxR",
        "outputId": "2f6efd2d-b1a9-40eb-9ca8-8fa4a2fc8f5d"
      },
      "execution_count": 69,
      "outputs": [
        {
          "output_type": "stream",
          "name": "stdout",
          "text": [
            "   movieId                    title  \\\n",
            "0        1         Toy Story (1995)   \n",
            "1        2           Jumanji (1995)   \n",
            "2        3  Grumpier Old Men (1995)   \n",
            "5        6              Heat (1995)   \n",
            "6        7           Sabrina (1995)   \n",
            "\n",
            "                                        genres  count      mean  \n",
            "0  Adventure|Animation|Children|Comedy|Fantasy    215  3.920930  \n",
            "1                   Adventure|Children|Fantasy    110  3.431818  \n",
            "2                               Comedy|Romance     52  3.259615  \n",
            "5                        Action|Crime|Thriller    102  3.946078  \n",
            "6                               Comedy|Romance     54  3.185185  \n"
          ]
        }
      ]
    },
    {
      "cell_type": "markdown",
      "source": [
        "#Filter only those movies which have more than 50 user ratings (i.e. > 50)."
      ],
      "metadata": {
        "id": "yBAfHof73fJ1"
      }
    },
    {
      "cell_type": "code",
      "source": [
        "aggregated_ratings = df_ratings.groupby('movieId')['rating'].agg(['count', 'mean']).reset_index()\n",
        "merged_df = pd.merge(df_movies, aggregated_ratings, on='movieId', how='inner')\n",
        "filtered_movies = merged_df[merged_df['count'] > 50]\n",
        "most_popular_movie = filtered_movies.loc[filtered_movies['mean'].idxmax()]\n",
        "print(f\"The most popular movie based on average user ratings is '{most_popular_movie['title']}' with an average rating of {most_popular_movie['mean']:.2f}.\")"
      ],
      "metadata": {
        "colab": {
          "base_uri": "https://localhost:8080/"
        },
        "id": "o3nIkvjpgLIJ",
        "outputId": "0f34da79-4a75-44af-a282-f355ad0cf364"
      },
      "execution_count": 70,
      "outputs": [
        {
          "output_type": "stream",
          "name": "stdout",
          "text": [
            "The most popular movie based on average user ratings is 'Shawshank Redemption, The (1994)' with an average rating of 4.43.\n"
          ]
        }
      ]
    },
    {
      "cell_type": "markdown",
      "source": [
        " Observation : Movies which have more than 50 user ratings (i.e. > 50) is: 'Shawshank Redemption, The (1994)' with an average rating of 4.43."
      ],
      "metadata": {
        "id": "6iTTEUHL3lI1"
      }
    },
    {
      "cell_type": "markdown",
      "source": [
        "#Top 5 popular movies based on number of user ratings"
      ],
      "metadata": {
        "id": "RVs13wkC5VPy"
      }
    },
    {
      "cell_type": "code",
      "source": [
        "aggregated_ratings = df_ratings.groupby('movieId')['rating'].agg(['count', 'mean']).reset_index()\n",
        "merged_df = pd.merge(df_movies, aggregated_ratings, on='movieId', how='inner')\n",
        "filtered_movies = merged_df[merged_df['count'] > 50]\n",
        "top_5_movies = filtered_movies.nlargest(5, 'count')\n",
        "top_5_titles = top_5_movies['title'].tolist()\n",
        "given_movies = [\n",
        "    'Pulp Fiction (1994)',\n",
        "    'Bad Boys (1995)',\n",
        "    'Silence of the Lambs, The (1991)',\n",
        "    'Matrix, The (1999)'\n",
        "]\n",
        "result_movies = [movie for movie in given_movies if movie in top_5_titles]\n",
        "print(\"Top 5 popular movies based on number of user ratings include:\")\n",
        "print(result_movies)"
      ],
      "metadata": {
        "colab": {
          "base_uri": "https://localhost:8080/"
        },
        "id": "XxEsD8zDhKOL",
        "outputId": "dc694dd1-eddf-47f4-8edc-108ce3e12202"
      },
      "execution_count": 71,
      "outputs": [
        {
          "output_type": "stream",
          "name": "stdout",
          "text": [
            "Top 5 popular movies based on number of user ratings include:\n",
            "['Pulp Fiction (1994)', 'Silence of the Lambs, The (1991)', 'Matrix, The (1999)']\n"
          ]
        }
      ]
    },
    {
      "cell_type": "markdown",
      "source": [
        "Observation :Top 5 popular movies based on number of user ratings are: ['Pulp Fiction (1994)', 'Silence of the Lambs, The (1991)', 'Matrix, The (1999)']"
      ],
      "metadata": {
        "id": "BZ77TTnr5Z3c"
      }
    },
    {
      "cell_type": "markdown",
      "source": [
        "#The \"third most popular\" sci-fi movies based on the number of user ratings?"
      ],
      "metadata": {
        "id": "jY-KPLqQ5iFp"
      }
    },
    {
      "cell_type": "code",
      "source": [
        "aggregated_ratings = df_ratings.groupby('movieId')['rating'].agg(['count', 'mean']).reset_index()\n",
        "merged_df = pd.merge(df_movies, aggregated_ratings, on='movieId', how='inner')\n",
        "filtered_movies = merged_df[merged_df['count'] > 50]\n",
        "sci_fi_movies = filtered_movies[filtered_movies['genres'].str.contains('Sci-Fi')]\n",
        "sorted_sci_fi_movies = sci_fi_movies.sort_values(by='count', ascending=False)\n",
        "third_most_popular_sci_fi = sorted_sci_fi_movies.iloc[2]\n",
        "print(f\"The third most popular Sci-Fi movie based on the number of user ratings is '{third_most_popular_sci_fi['title']}'.\")"
      ],
      "metadata": {
        "colab": {
          "base_uri": "https://localhost:8080/"
        },
        "id": "SxryJ6mHh837",
        "outputId": "f2519c25-fd74-4697-8912-36a152147168"
      },
      "execution_count": 72,
      "outputs": [
        {
          "output_type": "stream",
          "name": "stdout",
          "text": [
            "The third most popular Sci-Fi movie based on the number of user ratings is 'Jurassic Park (1993)'.\n"
          ]
        }
      ]
    },
    {
      "cell_type": "markdown",
      "source": [
        "Observation : The third most popular Sci-Fi movie based on the number of user ratings is 'Jurassic Park (1993)'"
      ],
      "metadata": {
        "id": "z6D-ngH25uyC"
      }
    },
    {
      "cell_type": "markdown",
      "source": [
        "#The Webscraping"
      ],
      "metadata": {
        "id": "5SwgcxK172T2"
      }
    },
    {
      "cell_type": "code",
      "source": [
        "import pandas as pd\n",
        "import time\n",
        "import requests\n",
        "from bs4 import BeautifulSoup\n",
        "import numpy as np\n",
        "\n",
        "\n",
        "links_df = pd.read_csv('/content/links.csv')\n",
        "filtered= filtered_movies[filtered_movies ['count'] > 50]\n",
        "filtered= pd.merge(filtered, links_df[['movieId', 'imdbId']], on='movieId')\n",
        "filtered['imdb_rating'] = filtered['imdbId'].apply(lambda x: scrapper(x))\n",
        "\n",
        "time.sleep(2)\n",
        "\n",
        "print(filtered[['title', 'imdb_rating']].head())"
      ],
      "metadata": {
        "colab": {
          "base_uri": "https://localhost:8080/"
        },
        "id": "jcRAyIKHGFbv",
        "outputId": "d6fe46e6-1712-4ac7-d6e6-c35e6d5eca14"
      },
      "execution_count": 73,
      "outputs": [
        {
          "output_type": "stream",
          "name": "stdout",
          "text": [
            "Scraping URL: https://www.imdb.com/title/tt0114709/\n",
            "Scraping URL: https://www.imdb.com/title/tt0113497/\n",
            "Scraping URL: https://www.imdb.com/title/tt0113228/\n",
            "Scraping URL: https://www.imdb.com/title/tt0113277/\n",
            "Scraping URL: https://www.imdb.com/title/tt0114319/\n",
            "Scraping URL: https://www.imdb.com/title/tt0113189/\n",
            "Scraping URL: https://www.imdb.com/title/tt0112346/\n",
            "Scraping URL: https://www.imdb.com/title/tt0112641/\n",
            "Scraping URL: https://www.imdb.com/title/tt0114388/\n",
            "Scraping URL: https://www.imdb.com/title/tt0112281/\n",
            "Scraping URL: https://www.imdb.com/title/tt0113161/\n",
            "Scraping URL: https://www.imdb.com/title/tt0113627/\n",
            "Scraping URL: https://www.imdb.com/title/tt0114746/\n",
            "Scraping URL: https://www.imdb.com/title/tt0112431/\n",
            "Scraping URL: https://www.imdb.com/title/tt0112818/\n",
            "Scraping URL: https://www.imdb.com/title/tt0112697/\n",
            "Scraping URL: https://www.imdb.com/title/tt0114369/\n",
            "Scraping URL: https://www.imdb.com/title/tt0114148/\n",
            "Scraping URL: https://www.imdb.com/title/tt0114814/\n",
            "Scraping URL: https://www.imdb.com/title/tt0113862/\n",
            "Scraping URL: https://www.imdb.com/title/tt0116367/\n",
            "Scraping URL: https://www.imdb.com/title/tt0115759/\n",
            "Scraping URL: https://www.imdb.com/title/tt0116483/\n",
            "Scraping URL: https://www.imdb.com/title/tt0112573/\n",
            "Scraping URL: https://www.imdb.com/title/tt0075314/\n",
            "Scraping URL: https://www.imdb.com/title/tt0115685/\n",
            "Scraping URL: https://www.imdb.com/title/tt0112442/\n",
            "Scraping URL: https://www.imdb.com/title/tt0112384/\n",
            "Scraping URL: https://www.imdb.com/title/tt0112462/\n",
            "Scraping URL: https://www.imdb.com/title/tt0112642/\n",
            "Scraping URL: https://www.imdb.com/title/tt0112715/\n",
            "Scraping URL: https://www.imdb.com/title/tt0112740/\n",
            "Scraping URL: https://www.imdb.com/title/tt0112851/\n",
            "Scraping URL: https://www.imdb.com/title/tt0112864/\n",
            "Scraping URL: https://www.imdb.com/title/tt0113071/\n",
            "Scraping URL: https://www.imdb.com/title/tt0113481/\n",
            "Scraping URL: https://www.imdb.com/title/tt0113492/\n",
            "Scraping URL: https://www.imdb.com/title/tt0113957/\n",
            "Scraping URL: https://www.imdb.com/title/tt0114898/\n",
            "Scraping URL: https://www.imdb.com/title/tt0109445/\n",
            "Scraping URL: https://www.imdb.com/title/tt0109635/\n",
            "Scraping URL: https://www.imdb.com/title/tt0109686/\n",
            "Scraping URL: https://www.imdb.com/title/tt0109707/\n",
            "Scraping URL: https://www.imdb.com/title/tt0110148/\n",
            "Scraping URL: https://www.imdb.com/title/tt0076759/\n",
            "Scraping URL: https://www.imdb.com/title/tt0110322/\n",
            "Scraping URL: https://www.imdb.com/title/tt0110632/\n",
            "Scraping URL: https://www.imdb.com/title/tt0114069/\n",
            "Scraping URL: https://www.imdb.com/title/tt0110413/\n",
            "Scraping URL: https://www.imdb.com/title/tt0110912/\n",
            "Scraping URL: https://www.imdb.com/title/tt0110932/\n",
            "Scraping URL: https://www.imdb.com/title/tt0111282/\n",
            "Scraping URL: https://www.imdb.com/title/tt0111070/\n",
            "Scraping URL: https://www.imdb.com/title/tt0111161/\n",
            "Scraping URL: https://www.imdb.com/title/tt0111280/\n",
            "Scraping URL: https://www.imdb.com/title/tt0108550/\n",
            "Scraping URL: https://www.imdb.com/title/tt0114924/\n",
            "Scraping URL: https://www.imdb.com/title/tt0109040/\n",
            "Scraping URL: https://www.imdb.com/title/tt0109444/\n",
            "Scraping URL: https://www.imdb.com/title/tt0109446/\n",
            "Scraping URL: https://www.imdb.com/title/tt0109506/\n",
            "Scraping URL: https://www.imdb.com/title/tt0109830/\n",
            "Scraping URL: https://www.imdb.com/title/tt0109831/\n",
            "Scraping URL: https://www.imdb.com/title/tt0110357/\n",
            "Scraping URL: https://www.imdb.com/title/tt0110475/\n",
            "Scraping URL: https://www.imdb.com/title/tt0110478/\n",
            "Scraping URL: https://www.imdb.com/title/tt0110622/\n",
            "Scraping URL: https://www.imdb.com/title/tt0111257/\n",
            "Scraping URL: https://www.imdb.com/title/tt0111503/\n",
            "Scraping URL: https://www.imdb.com/title/tt0106220/\n",
            "Scraping URL: https://www.imdb.com/title/tt0109254/\n",
            "Scraping URL: https://www.imdb.com/title/tt0109439/\n",
            "Scraping URL: https://www.imdb.com/title/tt0106582/\n",
            "Scraping URL: https://www.imdb.com/title/tt0106598/\n",
            "Scraping URL: https://www.imdb.com/title/tt0106673/\n",
            "Scraping URL: https://www.imdb.com/title/tt0106697/\n",
            "Scraping URL: https://www.imdb.com/title/tt0106918/\n",
            "Scraping URL: https://www.imdb.com/title/tt0106977/\n",
            "Scraping URL: https://www.imdb.com/title/tt0107144/\n",
            "Scraping URL: https://www.imdb.com/title/tt0107206/\n",
            "Scraping URL: https://www.imdb.com/title/tt0107290/\n",
            "Scraping URL: https://www.imdb.com/title/tt0107362/\n",
            "Scraping URL: https://www.imdb.com/title/tt0107614/\n",
            "Scraping URL: https://www.imdb.com/title/tt0107818/\n",
            "Scraping URL: https://www.imdb.com/title/tt0107822/\n",
            "Scraping URL: https://www.imdb.com/title/tt0107977/\n",
            "Scraping URL: https://www.imdb.com/title/tt0108052/\n",
            "Scraping URL: https://www.imdb.com/title/tt0108160/\n",
            "Scraping URL: https://www.imdb.com/title/tt0083658/\n",
            "Scraping URL: https://www.imdb.com/title/tt0107688/\n",
            "Scraping URL: https://www.imdb.com/title/tt0108333/\n",
            "Scraping URL: https://www.imdb.com/title/tt0108358/\n",
            "Scraping URL: https://www.imdb.com/title/tt0108399/\n",
            "Scraping URL: https://www.imdb.com/title/tt0099785/\n",
            "Scraping URL: https://www.imdb.com/title/tt0099653/\n",
            "Scraping URL: https://www.imdb.com/title/tt0103639/\n",
            "Scraping URL: https://www.imdb.com/title/tt0103064/\n",
            "Scraping URL: https://www.imdb.com/title/tt0099348/\n",
            "Scraping URL: https://www.imdb.com/title/tt0096895/\n",
            "Scraping URL: https://www.imdb.com/title/tt0102926/\n",
            "Scraping URL: https://www.imdb.com/title/tt0029583/\n",
            "Scraping URL: https://www.imdb.com/title/tt0101414/\n",
            "Scraping URL: https://www.imdb.com/title/tt0032910/\n",
            "Scraping URL: https://www.imdb.com/title/tt0100405/\n",
            "Scraping URL: https://www.imdb.com/title/tt0116282/\n",
            "Scraping URL: https://www.imdb.com/title/tt0117060/\n",
            "Scraping URL: https://www.imdb.com/title/tt0116136/\n",
            "Scraping URL: https://www.imdb.com/title/tt0117705/\n",
            "Scraping URL: https://www.imdb.com/title/tt0117979/\n",
            "Scraping URL: https://www.imdb.com/title/tt0117500/\n",
            "Scraping URL: https://www.imdb.com/title/tt0117998/\n",
            "Scraping URL: https://www.imdb.com/title/tt0057012/\n",
            "Scraping URL: https://www.imdb.com/title/tt0117951/\n",
            "Scraping URL: https://www.imdb.com/title/tt0116629/\n",
            "Scraping URL: https://www.imdb.com/title/tt0115798/\n",
            "Scraping URL: https://www.imdb.com/title/tt0116213/\n",
            "Scraping URL: https://www.imdb.com/title/tt0117218/\n",
            "Scraping URL: https://www.imdb.com/title/tt0068646/\n",
            "Scraping URL: https://www.imdb.com/title/tt0052357/\n",
            "Scraping URL: https://www.imdb.com/title/tt0047396/\n",
            "Scraping URL: https://www.imdb.com/title/tt0053125/\n",
            "Scraping URL: https://www.imdb.com/title/tt0034583/\n",
            "Scraping URL: https://www.imdb.com/title/tt0032138/\n",
            "Scraping URL: https://www.imdb.com/title/tt0033467/\n",
            "Scraping URL: https://www.imdb.com/title/tt0062622/\n",
            "Scraping URL: https://www.imdb.com/title/tt0038650/\n",
            "Scraping URL: https://www.imdb.com/title/tt0058331/\n",
            "Scraping URL: https://www.imdb.com/title/tt0059742/\n",
            "Scraping URL: https://www.imdb.com/title/tt0095016/\n",
            "Scraping URL: https://www.imdb.com/title/tt0067992/\n",
            "Scraping URL: https://www.imdb.com/title/tt0095159/\n",
            "Scraping URL: https://www.imdb.com/title/tt0079470/\n",
            "Scraping URL: https://www.imdb.com/title/tt0105236/\n",
            "Scraping URL: https://www.imdb.com/title/tt0091763/\n",
            "Scraping URL: https://www.imdb.com/title/tt0083866/\n",
            "Scraping URL: https://www.imdb.com/title/tt0092099/\n",
            "Scraping URL: https://www.imdb.com/title/tt0096754/\n",
            "Scraping URL: https://www.imdb.com/title/tt0071853/\n",
            "Scraping URL: https://www.imdb.com/title/tt0108598/\n",
            "Scraping URL: https://www.imdb.com/title/tt0073486/\n",
            "Scraping URL: https://www.imdb.com/title/tt0080684/\n",
            "Scraping URL: https://www.imdb.com/title/tt0093779/\n",
            "Scraping URL: https://www.imdb.com/title/tt0082971/\n",
            "Scraping URL: https://www.imdb.com/title/tt0088846/\n",
            "Scraping URL: https://www.imdb.com/title/tt0090605/\n",
            "Scraping URL: https://www.imdb.com/title/tt0060196/\n",
            "Scraping URL: https://www.imdb.com/title/tt0050083/\n",
            "Scraping URL: https://www.imdb.com/title/tt0066921/\n",
            "Scraping URL: https://www.imdb.com/title/tt0056592/\n",
            "Scraping URL: https://www.imdb.com/title/tt0078788/\n",
            "Scraping URL: https://www.imdb.com/title/tt0086190/\n",
            "Scraping URL: https://www.imdb.com/title/tt0099685/\n",
            "Scraping URL: https://www.imdb.com/title/tt0078748/\n",
            "Scraping URL: https://www.imdb.com/title/tt0106308/\n",
            "Scraping URL: https://www.imdb.com/title/tt0054215/\n",
            "Scraping URL: https://www.imdb.com/title/tt0080455/\n",
            "Scraping URL: https://www.imdb.com/title/tt0071562/\n",
            "Scraping URL: https://www.imdb.com/title/tt0093058/\n",
            "Scraping URL: https://www.imdb.com/title/tt0086879/\n",
            "Scraping URL: https://www.imdb.com/title/tt0075686/\n",
            "Scraping URL: https://www.imdb.com/title/tt0070735/\n",
            "Scraping URL: https://www.imdb.com/title/tt0088247/\n",
            "Scraping URL: https://www.imdb.com/title/tt0097165/\n",
            "Scraping URL: https://www.imdb.com/title/tt0061722/\n",
            "Scraping URL: https://www.imdb.com/title/tt0071315/\n",
            "Scraping URL: https://www.imdb.com/title/tt0081505/\n",
            "Scraping URL: https://www.imdb.com/title/tt0092005/\n",
            "Scraping URL: https://www.imdb.com/title/tt0107048/\n",
            "Scraping URL: https://www.imdb.com/title/tt0088763/\n",
            "Scraping URL: https://www.imdb.com/title/tt0061512/\n",
            "Scraping URL: https://www.imdb.com/title/tt0072431/\n",
            "Scraping URL: https://www.imdb.com/title/tt0032455/\n",
            "Scraping URL: https://www.imdb.com/title/tt0088258/\n",
            "Scraping URL: https://www.imdb.com/title/tt0097576/\n",
            "Scraping URL: https://www.imdb.com/title/tt0097351/\n",
            "Scraping URL: https://www.imdb.com/title/tt0064115/\n",
            "Scraping URL: https://www.imdb.com/title/tt0098635/\n",
            "Scraping URL: https://www.imdb.com/title/tt0117731/\n",
            "Scraping URL: https://www.imdb.com/title/tt0099423/\n",
            "Scraping URL: https://www.imdb.com/title/tt0084726/\n",
            "Scraping URL: https://www.imdb.com/title/tt0103776/\n",
            "Scraping URL: https://www.imdb.com/title/tt0077631/\n",
            "Scraping URL: https://www.imdb.com/title/tt0073195/\n",
            "Scraping URL: https://www.imdb.com/title/tt0116996/\n",
            "Scraping URL: https://www.imdb.com/title/tt0116695/\n",
            "Scraping URL: https://www.imdb.com/title/tt0093822/\n",
            "Scraping URL: https://www.imdb.com/title/tt0117571/\n",
            "Scraping URL: https://www.imdb.com/title/tt0119008/\n",
            "Scraping URL: https://www.imdb.com/title/tt0119528/\n",
            "Scraping URL: https://www.imdb.com/title/tt0119229/\n",
            "Scraping URL: https://www.imdb.com/title/tt0118655/\n",
            "Scraping URL: https://www.imdb.com/title/tt0119116/\n",
            "Scraping URL: https://www.imdb.com/title/tt0119567/\n",
            "Scraping URL: https://www.imdb.com/title/tt0118880/\n",
            "Scraping URL: https://www.imdb.com/title/tt0119094/\n",
            "Scraping URL: https://www.imdb.com/title/tt0119654/\n",
            "Scraping URL: https://www.imdb.com/title/tt0118884/\n",
            "Scraping URL: https://www.imdb.com/title/tt0118571/\n",
            "Scraping URL: https://www.imdb.com/title/tt0099810/\n",
            "Scraping URL: https://www.imdb.com/title/tt0119488/\n",
            "Scraping URL: https://www.imdb.com/title/tt0119174/\n",
            "Scraping URL: https://www.imdb.com/title/tt0118842/\n",
            "Scraping URL: https://www.imdb.com/title/tt0119164/\n",
            "Scraping URL: https://www.imdb.com/title/tt0118971/\n",
            "Scraping URL: https://www.imdb.com/title/tt0119177/\n",
            "Scraping URL: https://www.imdb.com/title/tt0120201/\n",
            "Scraping URL: https://www.imdb.com/title/tt0120382/\n",
            "Scraping URL: https://www.imdb.com/title/tt0119217/\n",
            "Scraping URL: https://www.imdb.com/title/tt0120338/\n",
            "Scraping URL: https://www.imdb.com/title/tt0118715/\n",
            "Scraping URL: https://www.imdb.com/title/tt0120888/\n",
            "Scraping URL: https://www.imdb.com/title/tt0119822/\n",
            "Scraping URL: https://www.imdb.com/title/tt0120591/\n",
            "Scraping URL: https://www.imdb.com/title/tt0129387/\n",
            "Scraping URL: https://www.imdb.com/title/tt0075148/\n",
            "Scraping URL: https://www.imdb.com/title/tt0095953/\n",
            "Scraping URL: https://www.imdb.com/title/tt0088847/\n",
            "Scraping URL: https://www.imdb.com/title/tt0070047/\n",
            "Scraping URL: https://www.imdb.com/title/tt0093409/\n",
            "Scraping URL: https://www.imdb.com/title/tt0089218/\n",
            "Scraping URL: https://www.imdb.com/title/tt0120746/\n",
            "Scraping URL: https://www.imdb.com/title/tt0096874/\n",
            "Scraping URL: https://www.imdb.com/title/tt0099088/\n",
            "Scraping URL: https://www.imdb.com/title/tt0120815/\n",
            "Scraping URL: https://www.imdb.com/title/tt0097523/\n",
            "Scraping URL: https://www.imdb.com/title/tt0061852/\n",
            "Scraping URL: https://www.imdb.com/title/tt0048280/\n",
            "Scraping URL: https://www.imdb.com/title/tt0097757/\n",
            "Scraping URL: https://www.imdb.com/title/tt0088161/\n",
            "Scraping URL: https://www.imdb.com/title/tt0087469/\n",
            "Scraping URL: https://www.imdb.com/title/tt0120611/\n",
            "Scraping URL: https://www.imdb.com/title/tt0094721/\n",
            "Scraping URL: https://www.imdb.com/title/tt0094226/\n",
            "Scraping URL: https://www.imdb.com/title/tt0104257/\n",
            "Scraping URL: https://www.imdb.com/title/tt0099487/\n",
            "Scraping URL: https://www.imdb.com/title/tt0104952/\n",
            "Scraping URL: https://www.imdb.com/title/tt0120789/\n",
            "Scraping URL: https://www.imdb.com/title/tt0118799/\n",
            "Scraping URL: https://www.imdb.com/title/tt0120586/\n",
            "Scraping URL: https://www.imdb.com/title/tt0120660/\n",
            "Scraping URL: https://www.imdb.com/title/tt0120623/\n",
            "Scraping URL: https://www.imdb.com/title/tt0128445/\n",
            "Scraping URL: https://www.imdb.com/title/tt0138097/\n",
            "Scraping URL: https://www.imdb.com/title/tt0088011/\n",
            "Scraping URL: https://www.imdb.com/title/tt0090555/\n",
            "Scraping URL: https://www.imdb.com/title/tt0151804/\n",
            "Scraping URL: https://www.imdb.com/title/tt0063442/\n",
            "Scraping URL: https://www.imdb.com/title/tt0120735/\n",
            "Scraping URL: https://www.imdb.com/title/tt0133093/\n",
            "Scraping URL: https://www.imdb.com/title/tt0147800/\n",
            "Scraping URL: https://www.imdb.com/title/tt0126886/\n",
            "Scraping URL: https://www.imdb.com/title/tt0120616/\n",
            "Scraping URL: https://www.imdb.com/title/tt0120915/\n",
            "Scraping URL: https://www.imdb.com/title/tt0078346/\n",
            "Scraping URL: https://www.imdb.com/title/tt0073629/\n",
            "Scraping URL: https://www.imdb.com/title/tt0125439/\n",
            "Scraping URL: https://www.imdb.com/title/tt0145660/\n",
            "Scraping URL: https://www.imdb.com/title/tt0130827/\n",
            "Scraping URL: https://www.imdb.com/title/tt0099052/\n",
            "Scraping URL: https://www.imdb.com/title/tt0158983/\n",
            "Scraping URL: https://www.imdb.com/title/tt0120891/\n",
            "Scraping URL: https://www.imdb.com/title/tt0163651/\n",
            "Scraping URL: https://www.imdb.com/title/tt0185937/\n",
            "Scraping URL: https://www.imdb.com/title/tt0120663/\n",
            "Scraping URL: https://www.imdb.com/title/tt0087332/\n",
            "Scraping URL: https://www.imdb.com/title/tt0167404/\n",
            "Scraping URL: https://www.imdb.com/title/tt0080339/\n",
            "Scraping URL: https://www.imdb.com/title/tt0094737/\n",
            "Scraping URL: https://www.imdb.com/title/tt0085334/\n",
            "Scraping URL: https://www.imdb.com/title/tt0169547/\n",
            "Scraping URL: https://www.imdb.com/title/tt0100802/\n",
            "Scraping URL: https://www.imdb.com/title/tt0091042/\n",
            "Scraping URL: https://www.imdb.com/title/tt0058150/\n",
            "Scraping URL: https://www.imdb.com/title/tt0137523/\n",
            "Scraping URL: https://www.imdb.com/title/tt0093870/\n",
            "Scraping URL: https://www.imdb.com/title/tt0096438/\n",
            "Scraping URL: https://www.imdb.com/title/tt0120601/\n",
            "Scraping URL: https://www.imdb.com/title/tt0094012/\n",
            "Scraping URL: https://www.imdb.com/title/tt0120655/\n",
            "Scraping URL: https://www.imdb.com/title/tt0162661/\n",
            "Scraping URL: https://www.imdb.com/title/tt0120363/\n",
            "Scraping URL: https://www.imdb.com/title/tt0120689/\n",
            "Scraping URL: https://www.imdb.com/title/tt0175880/\n",
            "Scraping URL: https://www.imdb.com/title/tt0177789/\n",
            "Scraping URL: https://www.imdb.com/title/tt0105793/\n",
            "Scraping URL: https://www.imdb.com/title/tt0195685/\n",
            "Scraping URL: https://www.imdb.com/title/tt0077975/\n",
            "Scraping URL: https://www.imdb.com/title/tt0075860/\n",
            "Scraping URL: https://www.imdb.com/title/tt0146882/\n",
            "Scraping URL: https://www.imdb.com/title/tt0102057/\n",
            "Scraping URL: https://www.imdb.com/title/tt0093773/\n",
            "Scraping URL: https://www.imdb.com/title/tt0144084/\n",
            "Scraping URL: https://www.imdb.com/title/tt0080487/\n",
            "Scraping URL: https://www.imdb.com/title/tt0172495/\n",
            "Scraping URL: https://www.imdb.com/title/tt0120755/\n",
            "Scraping URL: https://www.imdb.com/title/tt0071230/\n",
            "Scraping URL: https://www.imdb.com/title/tt0187078/\n",
            "Scraping URL: https://www.imdb.com/title/tt0120630/\n",
            "Scraping URL: https://www.imdb.com/title/tt0187393/\n",
            "Scraping URL: https://www.imdb.com/title/tt0120903/\n",
            "Scraping URL: https://www.imdb.com/title/tt0181875/\n",
            "Scraping URL: https://www.imdb.com/title/tt0218839/\n",
            "Scraping URL: https://www.imdb.com/title/tt0212338/\n",
            "Scraping URL: https://www.imdb.com/title/tt0180093/\n",
            "Scraping URL: https://www.imdb.com/title/tt0160127/\n",
            "Scraping URL: https://www.imdb.com/title/tt0217869/\n",
            "Scraping URL: https://www.imdb.com/title/tt0190332/\n",
            "Scraping URL: https://www.imdb.com/title/tt0208092/\n",
            "Scraping URL: https://www.imdb.com/title/tt0207201/\n",
            "Scraping URL: https://www.imdb.com/title/tt0162222/\n",
            "Scraping URL: https://www.imdb.com/title/tt0212346/\n",
            "Scraping URL: https://www.imdb.com/title/tt0190590/\n",
            "Scraping URL: https://www.imdb.com/title/tt0181865/\n",
            "Scraping URL: https://www.imdb.com/title/tt0209144/\n",
            "Scraping URL: https://www.imdb.com/title/tt0221027/\n",
            "Scraping URL: https://www.imdb.com/title/tt0243155/\n",
            "Scraping URL: https://www.imdb.com/title/tt0086250/\n",
            "Scraping URL: https://www.imdb.com/title/tt0126029/\n",
            "Scraping URL: https://www.imdb.com/title/tt0203009/\n",
            "Scraping URL: https://www.imdb.com/title/tt0212720/\n",
            "Scraping URL: https://www.imdb.com/title/tt0250494/\n",
            "Scraping URL: https://www.imdb.com/title/tt0230600/\n",
            "Scraping URL: https://www.imdb.com/title/tt0139654/\n",
            "Scraping URL: https://www.imdb.com/title/tt0196229/\n",
            "Scraping URL: https://www.imdb.com/title/tt0166924/\n",
            "Scraping URL: https://www.imdb.com/title/tt0246578/\n",
            "Scraping URL: https://www.imdb.com/title/tt0198781/\n",
            "Scraping URL: https://www.imdb.com/title/tt0241527/\n",
            "Scraping URL: https://www.imdb.com/title/tt0240772/\n",
            "Scraping URL: https://www.imdb.com/title/tt0211915/\n",
            "Scraping URL: https://www.imdb.com/title/tt0265666/\n",
            "Scraping URL: https://www.imdb.com/title/tt0120737/\n",
            "Scraping URL: https://www.imdb.com/title/tt0268978/\n",
            "Scraping URL: https://www.imdb.com/title/tt0268380/\n",
            "Scraping URL: https://www.imdb.com/title/tt0259446/\n",
            "Scraping URL: https://www.imdb.com/title/tt0145487/\n",
            "Scraping URL: https://www.imdb.com/title/tt0121765/\n",
            "Scraping URL: https://www.imdb.com/title/tt0258463/\n",
            "Scraping URL: https://www.imdb.com/title/tt0181689/\n",
            "Scraping URL: https://www.imdb.com/title/tt0120912/\n",
            "Scraping URL: https://www.imdb.com/title/tt0295178/\n",
            "Scraping URL: https://www.imdb.com/title/tt0286106/\n",
            "Scraping URL: https://www.imdb.com/title/tt0245429/\n",
            "Scraping URL: https://www.imdb.com/title/tt0310793/\n",
            "Scraping URL: https://www.imdb.com/title/tt0295297/\n",
            "Scraping URL: https://www.imdb.com/title/tt0167261/\n",
            "Scraping URL: https://www.imdb.com/title/tt0217505/\n",
            "Scraping URL: https://www.imdb.com/title/tt0264464/\n",
            "Scraping URL: https://www.imdb.com/title/tt0317248/\n",
            "Scraping URL: https://www.imdb.com/title/tt0290334/\n",
            "Scraping URL: https://www.imdb.com/title/tt0234215/\n",
            "Scraping URL: https://www.imdb.com/title/tt0315327/\n",
            "Scraping URL: https://www.imdb.com/title/tt0266543/\n",
            "Scraping URL: https://www.imdb.com/title/tt0317740/\n",
            "Scraping URL: https://www.imdb.com/title/tt0289043/\n",
            "Scraping URL: https://www.imdb.com/title/tt0325980/\n",
            "Scraping URL: https://www.imdb.com/title/tt0335266/\n",
            "Scraping URL: https://www.imdb.com/title/tt0332379/\n",
            "Scraping URL: https://www.imdb.com/title/tt0327056/\n",
            "Scraping URL: https://www.imdb.com/title/tt0266697/\n",
            "Scraping URL: https://www.imdb.com/title/tt0242653/\n",
            "Scraping URL: https://www.imdb.com/title/tt0314331/\n",
            "Scraping URL: https://www.imdb.com/title/tt0325710/\n",
            "Scraping URL: https://www.imdb.com/title/tt0319061/\n",
            "Scraping URL: https://www.imdb.com/title/tt0167260/\n",
            "Scraping URL: https://www.imdb.com/title/tt0338013/\n",
            "Scraping URL: https://www.imdb.com/title/tt0378194/\n",
            "Scraping URL: https://www.imdb.com/title/tt0298148/\n",
            "Scraping URL: https://www.imdb.com/title/tt0304141/\n",
            "Scraping URL: https://www.imdb.com/title/tt0316654/\n",
            "Scraping URL: https://www.imdb.com/title/tt0357413/\n",
            "Scraping URL: https://www.imdb.com/title/tt0343818/\n",
            "Scraping URL: https://www.imdb.com/title/tt0372183/\n",
            "Scraping URL: https://www.imdb.com/title/tt0365748/\n",
            "Scraping URL: https://www.imdb.com/title/tt0317705/\n",
            "Scraping URL: https://www.imdb.com/title/tt0405159/\n",
            "Scraping URL: https://www.imdb.com/title/tt0367594/\n",
            "Scraping URL: https://www.imdb.com/title/tt0401792/\n",
            "Scraping URL: https://www.imdb.com/title/tt0121766/\n",
            "Scraping URL: https://www.imdb.com/title/tt0356910/\n",
            "Scraping URL: https://www.imdb.com/title/tt0372784/\n",
            "Scraping URL: https://www.imdb.com/title/tt0396269/\n",
            "Scraping URL: https://www.imdb.com/title/tt0405422/\n",
            "Scraping URL: https://www.imdb.com/title/tt0330373/\n",
            "Scraping URL: https://www.imdb.com/title/tt0363771/\n",
            "Scraping URL: https://www.imdb.com/title/tt0434409/\n",
            "Scraping URL: https://www.imdb.com/title/tt0376994/\n",
            "Scraping URL: https://www.imdb.com/title/tt0383574/\n",
            "Scraping URL: https://www.imdb.com/title/tt0449059/\n",
            "Scraping URL: https://www.imdb.com/title/tt0443453/\n",
            "Scraping URL: https://www.imdb.com/title/tt0457430/\n",
            "Scraping URL: https://www.imdb.com/title/tt0407887/\n",
            "Scraping URL: https://www.imdb.com/title/tt0206634/\n",
            "Scraping URL: https://www.imdb.com/title/tt0482571/\n",
            "Scraping URL: https://www.imdb.com/title/tt0381061/\n",
            "Scraping URL: https://www.imdb.com/title/tt0450259/\n",
            "Scraping URL: https://www.imdb.com/title/tt0382932/\n",
            "Scraping URL: https://www.imdb.com/title/tt0425112/\n",
            "Scraping URL: https://www.imdb.com/title/tt0416449/\n",
            "Scraping URL: https://www.imdb.com/title/tt0478311/\n",
            "Scraping URL: https://www.imdb.com/title/tt0449088/\n",
            "Scraping URL: https://www.imdb.com/title/tt0373889/\n",
            "Scraping URL: https://www.imdb.com/title/tt0440963/\n",
            "Scraping URL: https://www.imdb.com/title/tt0829482/\n",
            "Scraping URL: https://www.imdb.com/title/tt0477348/\n",
            "Scraping URL: https://www.imdb.com/title/tt0480249/\n",
            "Scraping URL: https://www.imdb.com/title/tt0467406/\n",
            "Scraping URL: https://www.imdb.com/title/tt0468569/\n",
            "Scraping URL: https://www.imdb.com/title/tt0371746/\n",
            "Scraping URL: https://www.imdb.com/title/tt0441773/\n",
            "Scraping URL: https://www.imdb.com/title/tt0910970/\n",
            "Scraping URL: https://www.imdb.com/title/tt1010048/\n",
            "Scraping URL: https://www.imdb.com/title/tt0361748/\n",
            "Scraping URL: https://www.imdb.com/title/tt0796366/\n",
            "Scraping URL: https://www.imdb.com/title/tt1049413/\n",
            "Scraping URL: https://www.imdb.com/title/tt1119646/\n",
            "Scraping URL: https://www.imdb.com/title/tt0417741/\n",
            "Scraping URL: https://www.imdb.com/title/tt1136608/\n",
            "Scraping URL: https://www.imdb.com/title/tt1156398/\n",
            "Scraping URL: https://www.imdb.com/title/tt0499549/\n",
            "Scraping URL: https://www.imdb.com/title/tt0988045/\n",
            "Scraping URL: https://www.imdb.com/title/tt1130884/\n",
            "Scraping URL: https://www.imdb.com/title/tt0892769/\n",
            "Scraping URL: https://www.imdb.com/title/tt0435761/\n",
            "Scraping URL: https://www.imdb.com/title/tt1375666/\n",
            "Scraping URL: https://www.imdb.com/title/tt1285016/\n",
            "Scraping URL: https://www.imdb.com/title/tt1504320/\n",
            "Scraping URL: https://www.imdb.com/title/tt0848228/\n",
            "Scraping URL: https://www.imdb.com/title/tt1392170/\n",
            "Scraping URL: https://www.imdb.com/title/tt1345836/\n",
            "Scraping URL: https://www.imdb.com/title/tt1853728/\n",
            "Scraping URL: https://www.imdb.com/title/tt0993846/\n",
            "Scraping URL: https://www.imdb.com/title/tt2278388/\n",
            "Scraping URL: https://www.imdb.com/title/tt0816692/\n",
            "Scraping URL: https://www.imdb.com/title/tt2015381/\n",
            "Scraping URL: https://www.imdb.com/title/tt1431045/\n",
            "                     title imdb_rating\n",
            "0         Toy Story (1995)         8.3\n",
            "1           Jumanji (1995)         7.1\n",
            "2  Grumpier Old Men (1995)         6.7\n",
            "3              Heat (1995)         8.3\n",
            "4           Sabrina (1995)         6.3\n"
          ]
        }
      ]
    },
    {
      "cell_type": "code",
      "source": [
        "def scrapper(imdbId):\n",
        "    id = str(int(imdbId))\n",
        "    n_zeroes = 7 - len(id)\n",
        "    new_id = \"0\" * n_zeroes + id\n",
        "    URL = f\"https://www.imdb.com/title/tt{new_id}/\"\n",
        "\n",
        "    print(f\"Scraping URL: {URL}\")  # Debugging output\n",
        "\n",
        "    request_header = {\n",
        "        'Content-Type': 'text/html; charset=UTF-8',\n",
        "        'User-Agent': 'Mozilla/5.0 (Windows NT 10.0; Win64; x64; rv:109.0) Gecko/20100101 Firefox/119.0',\n",
        "        'Accept-Encoding': 'gzip, deflate, br'\n",
        "    }\n",
        "\n",
        "    response = requests.get(URL, headers=request_header)\n",
        "\n",
        "    if response.status_code != 200:\n",
        "        print(f\"Failed to retrieve {URL}, status code: {response.status_code}\")\n",
        "        return np.nan\n",
        "\n",
        "    soup = BeautifulSoup(response.text, 'html.parser')\n",
        "\n",
        "    imdb_rating = soup.find('span', attrs={'class': 'sc-eb51e184-1 ljxVSS'})\n",
        "\n",
        "    if imdb_rating:\n",
        "        return imdb_rating.text\n",
        "    else:\n",
        "        print(f\"Could not find rating for {URL}\")\n",
        "        return np.nan"
      ],
      "metadata": {
        "id": "6ddh4r9PGJ4P"
      },
      "execution_count": 74,
      "outputs": []
    },
    {
      "cell_type": "code",
      "source": [
        "#1. The movieId of the movie which has the highest IMDB rating.\n",
        "\n",
        "filtered['imdb_rating'] = pd.to_numeric(filtered['imdb_rating'], errors='coerce')\n",
        "\n",
        "max_imdb_index = filtered['imdb_rating'].idxmax()\n",
        "max_imdb_movieId = filtered.loc[max_imdb_index, 'movieId']\n",
        "max_imdb_movie_title = filtered.loc[max_imdb_index, 'title']\n",
        "max_imdb_rating = filtered.loc[max_imdb_index, 'imdb_rating']\n",
        "\n",
        "print(f\"The movie  '{max_imdb_movie_title}' (movieId: {max_imdb_movieId}) with a rating of {max_imdb_rating}.\")"
      ],
      "metadata": {
        "colab": {
          "base_uri": "https://localhost:8080/"
        },
        "id": "m01PsBblJYu5",
        "outputId": "bc158a60-c527-4a88-d17d-6527e8ac2ad8"
      },
      "execution_count": 79,
      "outputs": [
        {
          "output_type": "stream",
          "name": "stdout",
          "text": [
            "The movie  'Shawshank Redemption, The (1994)' (movieId: 318) with a rating of 9.3.\n"
          ]
        }
      ]
    },
    {
      "cell_type": "code",
      "source": [
        "#2. The movieId of the \"Sci-Fi\" movie which has the highest IMDB rating.\n",
        "\n",
        "filtered['imdb_rating'] = pd.to_numeric(filtered['imdb_rating'], errors='coerce')\n",
        "\n",
        "sci_fi_movies = filtered[filtered['genres'].str.contains('Sci-Fi', na=False)]\n",
        "max_imdb_index_sci_fi = sci_fi_movies['imdb_rating'].idxmax()\n",
        "max_imdb_movieId_sci_fi = sci_fi_movies.loc[max_imdb_index_sci_fi, 'movieId']\n",
        "max_imdb_movie_title_sci_fi = sci_fi_movies.loc[max_imdb_index_sci_fi, 'title']\n",
        "max_imdb_rating_sci_fi = sci_fi_movies.loc[max_imdb_index_sci_fi, 'imdb_rating']\n",
        "\n",
        "print(f\"The Sci-Fi  '{max_imdb_movie_title_sci_fi}' (movieId: {max_imdb_movieId_sci_fi}) with a rating of {max_imdb_rating_sci_fi}.\")"
      ],
      "metadata": {
        "colab": {
          "base_uri": "https://localhost:8080/"
        },
        "id": "jZd6gid7JpJw",
        "outputId": "ad66179a-189e-4f9d-89d6-8d68a308c03b"
      },
      "execution_count": 82,
      "outputs": [
        {
          "output_type": "stream",
          "name": "stdout",
          "text": [
            "The Sci-Fi  'Inception (2010)' (movieId: 79132) with a rating of 8.8.\n"
          ]
        }
      ]
    }
  ]
}